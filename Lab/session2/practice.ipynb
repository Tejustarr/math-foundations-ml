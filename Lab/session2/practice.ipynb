{
 "cells": [
  {
   "cell_type": "markdown",
   "id": "1a1ceda8",
   "metadata": {},
   "source": [
    "# Session 2 — Practice Notebook\n",
    "\n",
    "**Topic:** Linear Transformations (Session 2)\n",
    "\n",
    "This notebook contains the **Do It Yourself** exercises extracted from the session READMEs. Fill in the code cells below to solve each exercise. Keep answers below each prompt.\n",
    "\n",
    "---"
   ]
  },
  {
   "cell_type": "markdown",
   "id": "de5e6dcb",
   "metadata": {},
   "source": [
    "## 1) Determinant (2×2 and 3×3)\n",
    "Compute the determinant of the following matrices and print results using NumPy:\n",
    "\n",
    "- A = [[1,2],[3,4]]\n",
    "- B = [[2,0,1],[-1,3,2],[3,1,0]]\n"
   ]
  },
  {
   "cell_type": "code",
   "execution_count": null,
   "id": "f49651d9",
   "metadata": {},
   "outputs": [],
   "source": [
    "import numpy as np\n",
    "A = np.array([[1,2],[3,4]])\n",
    "B = np.array([[2,0,1],[-1,3,2],[3,1,0]])\n",
    "print('det(A)=', np.linalg.det(A))\n",
    "print('det(B)=', np.linalg.det(B))"
   ]
  },
  {
   "cell_type": "markdown",
   "id": "60ef1995",
   "metadata": {},
   "source": [
    "## 2) Matrix Inverse (2×2)\n",
    "Compute inverse of [[4,7],[2,6]] and verify that A @ A_inv = I."
   ]
  },
  {
   "cell_type": "code",
   "execution_count": null,
   "id": "e9c246cb",
   "metadata": {},
   "outputs": [],
   "source": [
    "A = np.array([[4,7],[2,6]])\n",
    "A_inv = np.linalg.inv(A)\n",
    "print('A_inv:\\n', A_inv)\n",
    "print('\\nCheck A @ A_inv:\\n', A @ A_inv)"
   ]
  },
  {
   "cell_type": "markdown",
   "id": "0b9dfa32",
   "metadata": {},
   "source": [
    "## 3) Special matrices: Diagonal and Orthogonal\n",
    "- Create a diagonal matrix D = diag([1,2,3,4]) and compute its inverse and determinant.\n",
    "- Create a 2×2 rotation matrix for θ=90° and verify Q^T @ Q = I."
   ]
  },
  {
   "cell_type": "code",
   "execution_count": null,
   "id": "9107363d",
   "metadata": {},
   "outputs": [],
   "source": [
    "D = np.diag([1,2,3,4])\n",
    "print('D:\\n', D)\n",
    "print('\\ndet(D)=', np.linalg.det(D))\n",
    "print('\\nD_inv:\\n', np.linalg.inv(D))\n",
    "\n",
    "# Rotation 90 degrees\n",
    "theta = np.pi/2\n",
    "Q = np.array([[np.cos(theta), -np.sin(theta)], [np.sin(theta), np.cos(theta)]])\n",
    "print('\\nQ:\\n', Q)\n",
    "print('\\nQ^T @ Q:\\n', Q.T @ Q)\n",
    "print('\\nIs Q orthogonal? ->', np.allclose(Q.T @ Q, np.eye(2)))"
   ]
  },
  {
   "cell_type": "markdown",
   "id": "6bd790be",
   "metadata": {},
   "source": [
    "## 4) Gram–Schmidt (implement columns orthonormalization)\n",
    "Given matrix A below, orthonormalize its columns using Gram–Schmidt and verify Q^T @ Q = I."
   ]
  },
  {
   "cell_type": "code",
   "execution_count": null,
   "id": "e72275ac",
   "metadata": {},
   "outputs": [],
   "source": [
    "def gram_schmidt_cols(A):\n",
    "    A = A.astype(float)\n",
    "    m,n = A.shape\n",
    "    Q = np.zeros((m,n))\n",
    "    for j in range(n):\n",
    "        v = A[:,j].copy()\n",
    "        for i in range(j):\n",
    "            proj = np.dot(Q[:,i], A[:,j]) * Q[:,i]\n",
    "            v = v - proj\n",
    "        norm = np.linalg.norm(v)\n",
    "        if norm < 1e-12:\n",
    "            Q[:,j] = v\n",
    "        else:\n",
    "            Q[:,j] = v / norm\n",
    "    return Q\n",
    "\n",
    "A = np.array([[2,2,4],[0,3,5],[0,4,5]], dtype=float)\n",
    "Q = gram_schmidt_cols(A)\n",
    "print('Q:\\n', Q)\n",
    "print('\\nQ^T @ Q:\\n', np.round(Q.T @ Q, 6))\n",
    "print('Is orthonormal? ->', np.allclose(Q.T @ Q, np.eye(Q.shape[1])))"
   ]
  },
  {
   "cell_type": "markdown",
   "id": "0fe5db03",
   "metadata": {},
   "source": [
    "## 5) Eigenvalues and Eigenvectors\n",
    "Compute eigenvalues and eigenvectors for A = [[2,1],[1,1]] and verify A v = λ v for one eigenpair."
   ]
  },
  {
   "cell_type": "code",
   "execution_count": null,
   "id": "cb835caf",
   "metadata": {},
   "outputs": [],
   "source": [
    "A = np.array([[2,1],[1,1]])\n",
    "eigvals, eigvecs = np.linalg.eig(A)\n",
    "print('eigvals:', eigvals)\n",
    "print('eigvecs:\\n', eigvecs)\n",
    "# Verify for first eigenpair\n",
    "v = eigvecs[:,0]\n",
    "l = eigvals[0]\n",
    "print('\\nCheck A v and l v:\\n', A @ v, l * v)"
   ]
  },
  {
   "cell_type": "markdown",
   "id": "d7b0e859",
   "metadata": {},
   "source": [
    "## 6) Diagonalization and A^k\n",
    "Diagonalize A (if possible) as A = E D E^{-1} and compute A^5 using diagonalization."
   ]
  },
  {
   "cell_type": "code",
   "execution_count": null,
   "id": "f71ac57c",
   "metadata": {},
   "outputs": [],
   "source": [
    "A = np.array([[2,1],[1,1]])\n",
    "vals, vecs = np.linalg.eig(A)\n",
    "D = np.diag(vals)\n",
    "E = vecs\n",
    "E_inv = np.linalg.inv(E)\n",
    "A_recon = E @ D @ E_inv\n",
    "print('A_reconstructed:\\n', np.round(A_recon,6))\n",
    "# A^5\n",
    "D5 = np.diag(vals**5)\n",
    "A5 = E @ D5 @ E_inv\n",
    "print('\\nA^5:\\n', np.round(A5,6))"
   ]
  },
  {
   "cell_type": "markdown",
   "id": "ba5ad92f",
   "metadata": {},
   "source": [
    "## 7) Python Implementation hints\n",
    "- Use numpy.linalg for det, inv, eig, svd.\n",
    "- Remember to check determinants before inverse.\n",
    "\n",
    "---\n",
    "\n",
    "### Submit your solutions in the code cells above. Good luck!"
   ]
  }
 ],
 "metadata": {},
 "nbformat": 4,
 "nbformat_minor": 5
}
