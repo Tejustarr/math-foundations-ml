{
 "cells": [
  {
   "cell_type": "markdown",
   "id": "93e87da5",
   "metadata": {},
   "source": [
    "# Session 2 — Practice Notebook\n",
    "**Linear Transformations & Matrices**\n",
    "\n",
    "This notebook contains short problems (from the Session 2 READMEs). Each problem is followed by a code cell (reproducible) and an **Answer** cell that shows the computed result.\n",
    "\n",
    "---\n"
   ]
  },
  {
   "cell_type": "markdown",
   "id": "f4e1c1d7",
   "metadata": {},
   "source": [
    "## Problem 1\n",
    "Represent and solve the system in matrix form:\n",
    "\n",
    "$$\\begin{cases} x + y + z = 6 \\\\ 2y + 5z = -4 \\\\ 2x + 5y - z = 27 \\end{cases}$$\n",
    "\n",
    "Solve for $(x,y,z)$."
   ]
  },
  {
   "cell_type": "code",
   "execution_count": 1,
   "id": "047b50ec",
   "metadata": {},
   "outputs": [
    {
     "name": "stdout",
     "output_type": "stream",
     "text": [
      "Solution [x, y, z] = [ 5.  3. -2.]\n"
     ]
    }
   ],
   "source": [
    "# Problem 1 — solve system\n",
    "import numpy as np\n",
    "A = np.array([[1,1,1],[0,2,5],[2,5,-1]], dtype=float)\n",
    "b = np.array([6, -4, 27], dtype=float)\n",
    "sol = np.linalg.solve(A, b)\n",
    "print('Solution [x, y, z] =', sol)"
   ]
  },
  {
   "cell_type": "markdown",
   "id": "a4cab47b",
   "metadata": {},
   "source": [
    "**Answer (computed):** `[5.0, 3.0, -2.0]`"
   ]
  },
  {
   "cell_type": "markdown",
   "id": "784afd85",
   "metadata": {},
   "source": [
    "## Problem 2\n",
    "Create a 4×4 random matrix using NumPy and compute its transpose. Show shapes as well."
   ]
  },
  {
   "cell_type": "code",
   "execution_count": 2,
   "id": "162b5fd4",
   "metadata": {},
   "outputs": [
    {
     "name": "stdout",
     "output_type": "stream",
     "text": [
      "A:\n",
      " [[0.5488135  0.71518937 0.60276338 0.54488318]\n",
      " [0.4236548  0.64589411 0.43758721 0.891773  ]\n",
      " [0.96366276 0.38344152 0.79172504 0.52889492]\n",
      " [0.56804456 0.92559664 0.07103606 0.0871293 ]]\n",
      "\n",
      "A.T:\n",
      " [[0.5488135  0.4236548  0.96366276 0.56804456]\n",
      " [0.71518937 0.64589411 0.38344152 0.92559664]\n",
      " [0.60276338 0.43758721 0.79172504 0.07103606]\n",
      " [0.54488318 0.891773   0.52889492 0.0871293 ]]\n",
      "\n",
      "Shapes: (4, 4) (4, 4)\n"
     ]
    }
   ],
   "source": [
    "# Problem 2 — 4x4 random matrix and transpose\n",
    "import numpy as np\n",
    "np.random.seed(0)\n",
    "A = np.random.rand(4,4)\n",
    "print('A:\\n', A)\n",
    "print('\\nA.T:\\n', A.T)\n",
    "print('\\nShapes:', A.shape, A.T.shape)"
   ]
  },
  {
   "cell_type": "markdown",
   "id": "b76df5be",
   "metadata": {},
   "source": [
    "**Answer (sample matrix and its transpose shown in the code cell above).**"
   ]
  },
  {
   "cell_type": "markdown",
   "id": "4af0034d",
   "metadata": {},
   "source": [
    "## Problem 3\n",
    "Given vectors:\n",
    "\n",
    "```\n",
    "v1 = [2,3,1]\n",
    "v2 = [4,6,2]\n",
    "v3 = [1,0,1]\n",
    "```\n",
    "\n",
    "Check if they are linearly independent (use determinant and rank)."
   ]
  },
  {
   "cell_type": "code",
   "execution_count": 3,
   "id": "d8bf9a39",
   "metadata": {},
   "outputs": [
    {
     "name": "stdout",
     "output_type": "stream",
     "text": [
      "Matrix M (rows = vectors):\n",
      " [[2 3 1]\n",
      " [4 6 2]\n",
      " [1 0 1]]\n",
      "\n",
      "det(M)= 0.0\n",
      "rank(M)= 2\n"
     ]
    }
   ],
   "source": [
    "# Problem 3 — determinant and rank\n",
    "import numpy as np\n",
    "v1 = np.array([2,3,1])\n",
    "v2 = np.array([4,6,2])\n",
    "v3 = np.array([1,0,1])\n",
    "M = np.vstack([v1, v2, v3])\n",
    "print('Matrix M (rows = vectors):\\n', M)\n",
    "print('\\ndet(M)=', np.linalg.det(M))\n",
    "print('rank(M)=', np.linalg.matrix_rank(M))"
   ]
  },
  {
   "cell_type": "markdown",
   "id": "d3206cd5",
   "metadata": {},
   "source": [
    "**Answer (computed):** determinant = `0.0`, rank = `2` — therefore the vectors are linearly dependent."
   ]
  },
  {
   "cell_type": "markdown",
   "id": "8bebf317",
   "metadata": {},
   "source": [
    "## Problem 4\n",
    "Create a random 3×3 matrix and check if it is orthogonal by verifying $A^T A = I$. (Show result of the check.)"
   ]
  },
  {
   "cell_type": "code",
   "execution_count": 4,
   "id": "9f119531",
   "metadata": {},
   "outputs": [
    {
     "name": "stdout",
     "output_type": "stream",
     "text": [
      "A:\n",
      " [[0.0202184  0.83261985 0.77815675]\n",
      " [0.87001215 0.97861834 0.79915856]\n",
      " [0.46147936 0.78052918 0.11827443]]\n",
      "\n",
      "A^T A:\n",
      " [[0.97029312 1.22844219 0.76559195]\n",
      " [1.22844219 2.26017546 1.52229662]\n",
      " [0.76559195 1.52229662 1.25817118]]\n",
      "\n",
      "Is A orthogonal? -> False\n"
     ]
    }
   ],
   "source": [
    "# Problem 4 — orthogonality check\n",
    "import numpy as np\n",
    "A = np.random.rand(3,3)\n",
    "ATA = A.T @ A\n",
    "print('A:\\n', A)\n",
    "print('\\nA^T A:\\n', ATA)\n",
    "print('\\nIs A orthogonal? ->', np.allclose(ATA, np.eye(3)))"
   ]
  },
  {
   "cell_type": "markdown",
   "id": "3a4cfa05",
   "metadata": {},
   "source": [
    "**Answer (computed sample):** `np.allclose(A^T A, I)` = `False`"
   ]
  },
  {
   "cell_type": "markdown",
   "id": "b4ad06cb",
   "metadata": {},
   "source": [
    "## Problem 5\n",
    "Apply Gram–Schmidt to orthonormalize columns of the matrix:\n",
    "\n",
    "```\n",
    "G = [[2,2,4],[0,3,5],[0,4,5]]\n",
    "```\n",
    "Verify that Q^T Q ≈ I."
   ]
  },
  {
   "cell_type": "code",
   "execution_count": 5,
   "id": "1e57d8de",
   "metadata": {},
   "outputs": [
    {
     "name": "stdout",
     "output_type": "stream",
     "text": [
      "Q:\n",
      " [[ 1.   0.   0. ]\n",
      " [ 0.   0.6  0.8]\n",
      " [ 0.   0.8 -0.6]]\n",
      "\n",
      "Q^T Q:\n",
      " [[ 1.  0.  0.]\n",
      " [ 0.  1. -0.]\n",
      " [ 0. -0.  1.]]\n",
      "\n",
      "Is Q orthonormal? -> True\n"
     ]
    }
   ],
   "source": [
    "# Problem 5 — Gram-Schmidt\n",
    "import numpy as np\n",
    "G = np.array([[2.0,2.0,4.0],[0.0,3.0,5.0],[0.0,4.0,5.0]])\n",
    "# Gram-Schmidt function\n",
    "\n",
    "def gram_schmidt_cols(A):\n",
    "    A = A.astype(float)\n",
    "    m, n = A.shape\n",
    "    Q = np.zeros((m, n))\n",
    "    for j in range(n):\n",
    "        v = A[:, j].copy()\n",
    "        for i in range(j):\n",
    "            proj = np.dot(Q[:, i], A[:, j]) * Q[:, i]\n",
    "            v = v - proj\n",
    "        norm = np.linalg.norm(v)\n",
    "        if norm < 1e-12:\n",
    "            Q[:, j] = v\n",
    "        else:\n",
    "            Q[:, j] = v / norm\n",
    "    return Q\n",
    "\n",
    "Q = gram_schmidt_cols(G)\n",
    "print('Q:\\n', Q)\n",
    "print('\\nQ^T Q:\\n', np.round(Q.T @ Q, 6))\n",
    "print('\\nIs Q orthonormal? ->', np.allclose(Q.T @ Q, np.eye(Q.shape[1])))"
   ]
  },
  {
   "cell_type": "markdown",
   "id": "54f9c53d",
   "metadata": {},
   "source": [
    "**Answer (computed):** Q^T Q ≈\n",
    "```\n",
    "[[ 1.  0.  0.]\n",
    " [ 0.  1. -0.]\n",
    " [ 0. -0.  1.]]\n",
    "```\n",
    "Is orthonormal? `True`"
   ]
  },
  {
   "cell_type": "markdown",
   "id": "e5ab4b19",
   "metadata": {},
   "source": [
    "## Problem 6\n",
    "Compute eigenvalues and eigenvectors for A = [[2,1],[1,1]] and verify A v = λ v for one eigenpair."
   ]
  },
  {
   "cell_type": "code",
   "execution_count": 6,
   "id": "0a3cc2a5",
   "metadata": {},
   "outputs": [
    {
     "name": "stdout",
     "output_type": "stream",
     "text": [
      "eigvals= [2.61803399 0.38196601]\n",
      "eigvecs=\n",
      " [[ 0.85065081 -0.52573111]\n",
      " [ 0.52573111  0.85065081]]\n",
      "\n",
      "A v = [2.22703273 1.37638192]\n",
      "l v = [2.22703273 1.37638192]\n",
      "\n",
      "Residual (A v - l v) = [0.00000000e+00 2.22044605e-16]\n"
     ]
    }
   ],
   "source": [
    "# Problem 6 — eigenvalues/eigenvectors\n",
    "import numpy as np\n",
    "A = np.array([[2,1],[1,1]], dtype=float)\n",
    "eigvals, eigvecs = np.linalg.eig(A)\n",
    "print('eigvals=', eigvals)\n",
    "print('eigvecs=\\n', eigvecs)\n",
    "# verify for first eigenpair\n",
    "v = eigvecs[:,0]\n",
    "l = eigvals[0]\n",
    "print('\\nA v =', A @ v)\n",
    "print('l v =', l * v)\n",
    "print('\\nResidual (A v - l v) =', A @ v - l * v)"
   ]
  },
  {
   "cell_type": "markdown",
   "id": "2159fb8c",
   "metadata": {},
   "source": [
    "**Answer (computed):** eigenvalues = `[2.618033988749895, 0.3819660112501052]`, eigenvectors =\n",
    "```\n",
    "[[ 0.85065081 -0.52573111]\n",
    " [ 0.52573111  0.85065081]]\n",
    "```\n",
    "Residual for first eigenpair ≈ `[0.00000000e+00 2.22044605e-16]`"
   ]
  },
  {
   "cell_type": "markdown",
   "id": "435b935b",
   "metadata": {},
   "source": [
    "## Problem 7\n",
    "Diagonalize A and compute A^5 using diagonalization (reuse A from Problem 6)."
   ]
  },
  {
   "cell_type": "code",
   "execution_count": 7,
   "id": "de0ea2cc",
   "metadata": {},
   "outputs": [
    {
     "name": "stdout",
     "output_type": "stream",
     "text": [
      "A^5 =\n",
      " [[89. 55.]\n",
      " [55. 34.]]\n"
     ]
    }
   ],
   "source": [
    "# Problem 7 — diagonalization and A^5\n",
    "import numpy as np\n",
    "A = np.array([[2,1],[1,1]], dtype=float)\n",
    "vals, vecs = np.linalg.eig(A)\n",
    "D5 = np.diag(vals**5)\n",
    "A5 = vecs @ D5 @ np.linalg.inv(vecs)\n",
    "print('A^5 =\\n', np.round(A5,6))"
   ]
  },
  {
   "cell_type": "markdown",
   "id": "2a641f27",
   "metadata": {},
   "source": [
    "**Answer (computed A^5):**\n",
    "```\n",
    "[[89. 55.]\n",
    " [55. 34.]]\n",
    "```"
   ]
  },
  {
   "cell_type": "markdown",
   "id": "dd1805ac",
   "metadata": {},
   "source": [
    "## Problem 8\n",
    "Construct a 2D rotation matrix for 90° and show why floating point gives tiny nonzero values for cos(π/2)."
   ]
  },
  {
   "cell_type": "code",
   "execution_count": 8,
   "id": "5c01c29a",
   "metadata": {},
   "outputs": [
    {
     "name": "stdout",
     "output_type": "stream",
     "text": [
      "R =\n",
      " [[ 6.123234e-17 -1.000000e+00]\n",
      " [ 1.000000e+00  6.123234e-17]]\n",
      "\n",
      "Rounded R =\n",
      " [[ 0. -1.]\n",
      " [ 1.  0.]]\n"
     ]
    }
   ],
   "source": [
    "# Problem 8 — rotation matrix 90 degrees\n",
    "import numpy as np\n",
    "theta = np.pi/2\n",
    "R = np.array([[np.cos(theta), -np.sin(theta)],[np.sin(theta), np.cos(theta)]])\n",
    "print('R =\\n', R)\n",
    "print('\\nRounded R =\\n', np.round(R,6))"
   ]
  },
  {
   "cell_type": "markdown",
   "id": "50369fe9",
   "metadata": {},
   "source": [
    "**Answer (computed):** Floating point leads to tiny nonzero values; rounding gives the exact integer-looking matrix for 90° rotation."
   ]
  }
 ],
 "metadata": {
  "kernelspec": {
   "display_name": "Python 3",
   "language": "python",
   "name": "python3"
  },
  "language_info": {
   "codemirror_mode": {
    "name": "ipython",
    "version": 3
   },
   "file_extension": ".py",
   "mimetype": "text/x-python",
   "name": "python",
   "nbconvert_exporter": "python",
   "pygments_lexer": "ipython3",
   "version": "3.11.9"
  }
 },
 "nbformat": 4,
 "nbformat_minor": 5
}
