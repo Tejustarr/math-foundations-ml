{
 "cells": [
  {
   "cell_type": "markdown",
   "id": "0d2c5ff4",
   "metadata": {},
   "source": [
    "1. Apply a scaling transform with $s_x = 3, s_y = 0.5$ to vector $(2,4)$.  "
   ]
  },
  {
   "cell_type": "code",
   "execution_count": 2,
   "id": "d1353614",
   "metadata": {},
   "outputs": [
    {
     "name": "stdout",
     "output_type": "stream",
     "text": [
      "Original vector: [2 4]\n",
      "Scaling matrix:\n",
      "[[3.  0. ]\n",
      " [0.  0.5]]\n",
      "Scaling: [6. 2.]\n"
     ]
    }
   ],
   "source": [
    "import numpy as np\n",
    "\n",
    "sx = 3\n",
    "sy = 0.5\n",
    "\n",
    "v = np.array([2, 4])\n",
    "\n",
    "# scaling matrix\n",
    "S = np.array([[sx, 0], [0, sy]])\n",
    "\n",
    "print(\"Original vector:\", v)\n",
    "print(\"Scaling matrix:\", S, sep=\"\\n\")\n",
    "\n",
    "print(\"Scaling:\", S @ v)"
   ]
  },
  {
   "cell_type": "markdown",
   "id": "d8ffd7b4",
   "metadata": {},
   "source": [
    "2. Reflect vector $(1,2)$ about the y-axis.  "
   ]
  },
  {
   "cell_type": "code",
   "execution_count": 3,
   "id": "f4b9452c",
   "metadata": {},
   "outputs": [
    {
     "name": "stdout",
     "output_type": "stream",
     "text": [
      "Reflection matrix about y-axis:\n",
      "[[-1  0]\n",
      " [ 0  1]]\n",
      "Reflection: [-2  4]\n"
     ]
    }
   ],
   "source": [
    "# reflection matrix about y-axis\n",
    "R = np.array([[-1, 0], [0, 1]])\n",
    "print(\"Reflection matrix about y-axis:\", R, sep=\"\\n\")\n",
    "print(\"Reflection:\", R @ v)"
   ]
  },
  {
   "cell_type": "markdown",
   "id": "d1c62db3",
   "metadata": {},
   "source": [
    "3. Project $(5,7)$ onto the x-axis.  "
   ]
  },
  {
   "cell_type": "code",
   "execution_count": 4,
   "id": "453697ea",
   "metadata": {},
   "outputs": [
    {
     "name": "stdout",
     "output_type": "stream",
     "text": [
      "Projection matrix onto x-axis:\n",
      "[[1 0]\n",
      " [0 0]]\n",
      "Projection: [2 0]\n"
     ]
    }
   ],
   "source": [
    "# projection matrix onto x-axis\n",
    "P = np.array([[1, 0], [0, 0]])\n",
    "print(\"Projection matrix onto x-axis:\", P, sep=\"\\n\")\n",
    "print(\"Projection:\", P @ v)"
   ]
  },
  {
   "cell_type": "markdown",
   "id": "9b8f7e82",
   "metadata": {},
   "source": [
    "4. Rotate $(1,0)$ by $90^\\circ$ and verify the result.  "
   ]
  },
  {
   "cell_type": "code",
   "execution_count": 5,
   "id": "e7695c8f",
   "metadata": {},
   "outputs": [
    {
     "name": "stdout",
     "output_type": "stream",
     "text": [
      "Rotation matrix by 90 degrees:\n",
      "[[ 0. -1.]\n",
      " [ 1.  0.]]\n",
      "Rotation: [0. 1.]\n"
     ]
    }
   ],
   "source": [
    "# rotation matrix by 90 degrees\n",
    "theta = np.pi / 2  # 90 degrees in radians\n",
    "cos_theta, sin_theta = round(np.cos(theta), 2), round(np.sin(theta), 2)  # np.cos(theta), np.sin(theta)\n",
    "R = np.array([[cos_theta, -sin_theta], [sin_theta, cos_theta]])\n",
    "print(\"Rotation matrix by 90 degrees:\", R, sep=\"\\n\")\n",
    "print(\"Rotation:\", R @ np.array([1, 0]))"
   ]
  },
  {
   "cell_type": "markdown",
   "id": "9cefff21",
   "metadata": {},
   "source": [
    "1. Compute the determinant of:  \n",
    "\n",
    "   $$\n",
    "   \\begin{bmatrix}\n",
    "   1 & 2 \\\\\n",
    "   3 & 4\n",
    "   \\end{bmatrix}\n",
    "   $$  "
   ]
  },
  {
   "cell_type": "code",
   "execution_count": 6,
   "id": "78d49d69",
   "metadata": {},
   "outputs": [
    {
     "name": "stdout",
     "output_type": "stream",
     "text": [
      "Matrix A:\n",
      "[[1 2]\n",
      " [3 4]]\n",
      "Determinant of A:\n",
      "-2.0\n"
     ]
    }
   ],
   "source": [
    "A = np.array([[1, 2], [3, 4]])\n",
    "\n",
    "det_A = np.linalg.det(A)\n",
    "print(\"Matrix A:\", A, sep=\"\\n\")\n",
    "print(\"Determinant of A:\", round(det_A, 2), sep=\"\\n\")"
   ]
  },
  {
   "cell_type": "markdown",
   "id": "9013c559",
   "metadata": {},
   "source": [
    "2. Find the determinant of:  \n",
    "\n",
    "   $$\n",
    "   \\begin{bmatrix}\n",
    "   2 & 0 & 1 \\\\\n",
    "   -1 & 3 & 2 \\\\\n",
    "   3 & 1 & 0\n",
    "   \\end{bmatrix}\n",
    "   $$  "
   ]
  },
  {
   "cell_type": "code",
   "execution_count": 7,
   "id": "0879864f",
   "metadata": {},
   "outputs": [
    {
     "name": "stdout",
     "output_type": "stream",
     "text": [
      "Matrix A:\n",
      "[[2 0 1]\n",
      " [3 0 0]\n",
      " [0 0 1]]\n",
      "Determinant of A:\n",
      "0.0\n"
     ]
    }
   ],
   "source": [
    "A = np.array([[2, 0, 1],\n",
    "              [3, 0, 0],\n",
    "              [0, 0, 1]])\n",
    "\n",
    "det_A = np.linalg.det(A)\n",
    "print(\"Matrix A:\", A, sep=\"\\n\")\n",
    "print(\"Determinant of A:\", round(det_A, 2), sep=\"\\n\")"
   ]
  },
  {
   "cell_type": "markdown",
   "id": "259823e7",
   "metadata": {},
   "source": [
    "3. In Python, generate a random $4 \\times 4$ matrix and compute its determinant using `np.linalg.det`.  "
   ]
  },
  {
   "cell_type": "code",
   "execution_count": 8,
   "id": "a49de9bb",
   "metadata": {},
   "outputs": [
    {
     "name": "stdout",
     "output_type": "stream",
     "text": [
      "Random 4x4 matrix:\n",
      "[[0.8861309  0.67722547 0.51832738 0.74393831]\n",
      " [0.73177231 0.42558369 0.76125291 0.48449504]\n",
      " [0.26881926 0.20529274 0.40022768 0.56223838]\n",
      " [0.76910561 0.1883271  0.12463752 0.44512771]]\n",
      "Determinant of random matrix:\n",
      "-0.06\n"
     ]
    }
   ],
   "source": [
    "random_matrix = np.random.rand(4, 4)\n",
    "det_random = np.linalg.det(random_matrix)\n",
    "print(\"Random 4x4 matrix:\", random_matrix, sep=\"\\n\")\n",
    "print(\"Determinant of random matrix:\", round(det_random, 2), sep=\"\\n\")"
   ]
  },
  {
   "cell_type": "markdown",
   "id": "33f887b3",
   "metadata": {},
   "source": [
    "1. Compute the inverse of  \n",
    "\n",
    "   $$\n",
    "   \\begin{bmatrix}\n",
    "   4 & 7 \\\\\n",
    "   2 & 6\n",
    "   \\end{bmatrix}\n",
    "   $$  \n",
    "\n",
    "   Verify that $AA^{-1} = I$.  "
   ]
  },
  {
   "cell_type": "code",
   "execution_count": 9,
   "id": "51ece125",
   "metadata": {},
   "outputs": [
    {
     "name": "stdout",
     "output_type": "stream",
     "text": [
      "Matrix A:\n",
      "[[4 7]\n",
      " [2 6]]\n",
      "A * A_inv:\n",
      "[[ 1.00000000e+00 -1.11022302e-16]\n",
      " [ 1.11022302e-16  1.00000000e+00]]\n"
     ]
    }
   ],
   "source": [
    "A = np.array([[4, 7],\n",
    "              [2, 6]])\n",
    "\n",
    "A_inv = np.linalg.inv(A)\n",
    "print(\"Matrix A:\", A, sep=\"\\n\")\n",
    "\n",
    "# Verify A * A_inv = I\n",
    "identity = A @ A_inv\n",
    "print(\"A * A_inv:\", identity, sep=\"\\n\")"
   ]
  },
  {
   "cell_type": "markdown",
   "id": "082da36e",
   "metadata": {},
   "source": [
    "2. In Python, generate a random $3 \\times 3$ matrix (with non-zero determinant) and compute its inverse.  "
   ]
  },
  {
   "cell_type": "code",
   "execution_count": 10,
   "id": "fb4a1778",
   "metadata": {},
   "outputs": [
    {
     "name": "stdout",
     "output_type": "stream",
     "text": [
      "Random 3x3 matrix:\n",
      "[[0.15003043 0.17170553 0.35445712]\n",
      " [0.09084415 0.50104315 0.97634152]\n",
      " [0.84231878 0.06637506 0.02982013]]\n",
      "Inverse of random matrix:\n",
      "[[  3.51294246  -1.29678155   0.70134582]\n",
      " [-57.74749     20.71910356   8.05119325]\n",
      " [ 29.30824236  -9.48782743  -4.19700309]]\n"
     ]
    }
   ],
   "source": [
    "random_matrix = np.random.rand(3, 3)\n",
    "random_matrix_inv = np.linalg.inv(random_matrix)\n",
    "print(\"Random 3x3 matrix:\", random_matrix, sep=\"\\n\")\n",
    "print(\"Inverse of random matrix:\", random_matrix_inv, sep=\"\\n\")"
   ]
  },
  {
   "cell_type": "markdown",
   "id": "c3032973",
   "metadata": {},
   "source": [
    "3. Verify $(AB)^{-1} = B^{-1}A^{-1}$ using two random invertible matrices."
   ]
  },
  {
   "cell_type": "code",
   "execution_count": 11,
   "id": "d73be2c7",
   "metadata": {},
   "outputs": [
    {
     "name": "stdout",
     "output_type": "stream",
     "text": [
      "B^-1 A^-1:\n",
      "[[ 0.6 -0.7]\n",
      " [-0.2  0.4]]\n",
      "AB^-1:\n",
      "[[ 0.6 -0.7]\n",
      " [-0.2  0.4]]\n",
      "B^-1 A^-1 == AB^-1: [[ True  True]\n",
      " [ True  True]]\n"
     ]
    }
   ],
   "source": [
    "A = np.array([[4, 7],\n",
    "              [2, 6]])\n",
    "\n",
    "B = np.array([[1, 0],\n",
    "              [0, 1]])\n",
    "\n",
    "# verify (AB)^-1 = B^-1 A^-1\n",
    "AB = A @ B\n",
    "AB_inv = np.linalg.inv(AB)\n",
    "B_inv = np.linalg.inv(B)\n",
    "A_inv = np.linalg.inv(A)\n",
    "\n",
    "B_inv_A_inv = B_inv @ A_inv\n",
    "print(\"B^-1 A^-1:\", B_inv_A_inv, sep=\"\\n\")\n",
    "print(\"AB^-1:\", AB_inv, sep=\"\\n\")\n",
    "print(\"B^-1 A^-1 == AB^-1:\", B_inv_A_inv == AB_inv)"
   ]
  },
  {
   "cell_type": "markdown",
   "id": "219a6424",
   "metadata": {},
   "source": [
    "1. Compute the determinant of a $4 \\times 4$ diagonal matrix with diagonal entries $(1,2,3,4)$.  "
   ]
  },
  {
   "cell_type": "code",
   "execution_count": 12,
   "id": "955dfea2",
   "metadata": {},
   "outputs": [
    {
     "name": "stdout",
     "output_type": "stream",
     "text": [
      "Determinant (Diagonal): 23.999999999999993\n"
     ]
    }
   ],
   "source": [
    "A = np.array([[1, 0 , 0, 0],\n",
    "                [0, 2, 0, 0],\n",
    "                [0, 0, 3, 0],\n",
    "                [0, 0, 0, 4]])\n",
    "print(\"Determinant (Diagonal):\", np.linalg.det(A))\n"
   ]
  },
  {
   "cell_type": "markdown",
   "id": "c67876c5",
   "metadata": {},
   "source": [
    "2. Verify in Python that for an orthogonal matrix $Q$, $Q^T = Q^{-1}$.  "
   ]
  },
  {
   "cell_type": "code",
   "execution_count": 13,
   "id": "37e4f6a6",
   "metadata": {},
   "outputs": [
    {
     "name": "stdout",
     "output_type": "stream",
     "text": [
      "Matrix Q (Orthogonal):\n",
      "[[ 0 -1]\n",
      " [ 1  0]]\n",
      "Q^T:\n",
      "[[ 0  1]\n",
      " [-1  0]]\n",
      "Q^-1:\n",
      "[[ 0.  1.]\n",
      " [-1. -0.]]\n",
      "Q^T == Q^-1 ? True\n"
     ]
    }
   ],
   "source": [
    "# Orthogonal matrix example (rotation 90°)\n",
    "Q = np.array([[0, -1],\n",
    "              [1,  0]])\n",
    "print(\"Matrix Q (Orthogonal):\", Q, sep=\"\\n\")\n",
    "\n",
    "# verify for orthogonal matrix Q, Q^T = Q^-1\n",
    "Q_T = Q.T\n",
    "Q_inv = np.linalg.inv(Q)\n",
    "print(\"Q^T:\", Q_T, sep=\"\\n\")\n",
    "print(\"Q^-1:\", Q_inv, sep=\"\\n\")\n",
    "print(\"Q^T == Q^-1 ?\", np.allclose(Q_T, Q_inv))"
   ]
  },
  {
   "cell_type": "markdown",
   "id": "de8c76f7",
   "metadata": {},
   "source": [
    "3. Take a $3 \\times 3$ upper triangular matrix and check if its determinant equals the product of diagonal entries. "
   ]
  },
  {
   "cell_type": "code",
   "execution_count": 14,
   "id": "2f3b90ed",
   "metadata": {},
   "outputs": [
    {
     "name": "stdout",
     "output_type": "stream",
     "text": [
      "Upper Triangular Matrix:\n",
      "[[2 3 1]\n",
      " [0 5 4]\n",
      " [0 0 6]]\n"
     ]
    },
    {
     "data": {
      "text/plain": [
       "np.False_"
      ]
     },
     "execution_count": 14,
     "metadata": {},
     "output_type": "execute_result"
    }
   ],
   "source": [
    "triangular_matrix = np.array([[2, 3, 1],\n",
    "                              [0, 5, 4],\n",
    "                              [0, 0, 6]])\n",
    "print(\"Upper Triangular Matrix:\", triangular_matrix, sep=\"\\n\")\n",
    "\n",
    "# checking if determinant equals product of diagonal entries\n",
    "det_triangular = np.linalg.det(triangular_matrix)\n",
    "prod_diagonal = np.prod(np.diag(triangular_matrix))\n",
    "\n",
    "det_triangular == prod_diagonal"
   ]
  },
  {
   "cell_type": "markdown",
   "id": "7ca78c02",
   "metadata": {},
   "source": [
    "1. Verify that for the $2 \\times 2$ rotation matrix  \n",
    "\n",
    "   $$\n",
    "   R = \\begin{bmatrix}\n",
    "   \\cos\\theta & -\\sin\\theta \\\\\n",
    "   \\sin\\theta & \\cos\\theta\n",
    "   \\end{bmatrix}\n",
    "   $$  \n",
    "\n",
    "   we have $R^T R = I$.  "
   ]
  },
  {
   "cell_type": "code",
   "execution_count": 15,
   "id": "585693f4",
   "metadata": {},
   "outputs": [
    {
     "name": "stdout",
     "output_type": "stream",
     "text": [
      "Rotation matrix by 45 degrees:\n",
      "[[ 0.70710678 -0.70710678]\n",
      " [ 0.70710678  0.70710678]]\n",
      "R^T @ R:\n",
      "[[ 1.00000000e+00 -4.26642159e-17]\n",
      " [-4.26642159e-17  1.00000000e+00]]\n"
     ]
    }
   ],
   "source": [
    "R = np.array([[np.cos(np.pi/4), -np.sin(np.pi/4)],\n",
    "              [np.sin(np.pi/4),  np.cos(np.pi/4)]])\n",
    "print(\"Rotation matrix by 45 degrees:\", R, sep=\"\\n\")\n",
    "\n",
    "R_T = R.T\n",
    "\n",
    "# verify R_t @ R = I\n",
    "identity = R_T @ R\n",
    "print(\"R^T @ R:\", identity, sep=\"\\n\")"
   ]
  },
  {
   "cell_type": "markdown",
   "id": "f3d4019c",
   "metadata": {},
   "source": [
    "2. Apply Gram–Schmidt on the vectors $(1,1,0)$ and $(1,0,1)$, and compute the resulting orthonormal basis.  "
   ]
  },
  {
   "cell_type": "code",
   "execution_count": null,
   "id": "02ca68f8",
   "metadata": {},
   "outputs": [
    {
     "name": "stdout",
     "output_type": "stream",
     "text": [
      "[0.70710678 0.70710678 0.        ]\n",
      "[ 0.40824829 -0.40824829  0.81649658]\n"
     ]
    },
    {
     "data": {
      "text/plain": [
       "array([[1.00000000e+00, 1.03018891e-16],\n",
       "       [1.03018891e-16, 1.00000000e+00]])"
      ]
     },
     "execution_count": 22,
     "metadata": {},
     "output_type": "execute_result"
    }
   ],
   "source": [
    "u1 = np.array([1, 1, 0])\n",
    "array([[1.00000000e+00, 1.03018891e-16],\n",
    "       [1.03018891e-16, 1.00000000e+00]])\n",
    "u2 = np.array([1, 0, 1])\n",
    "\n",
    "v1 = u1 / np.linalg.norm(u1)\n",
    "print(v1)\n",
    "v2 = u2 - np.dot(u2, v1) * v1\n",
    "v2 = v2 / np.linalg.norm(v2)\n",
    "print(v2)\n",
    "\n",
    "Q = np.column_stack((v1, v2))\n",
    "Q.T @ Q  # should be identity matrix"
   ]
  },
  {
   "cell_type": "markdown",
   "id": "881ffb2e",
   "metadata": {},
   "source": [
    "3. In Python, generate a random $3 \\times 3$ matrix and orthonormalize its columns. "
   ]
  },
  {
   "cell_type": "code",
   "execution_count": 25,
   "id": "8ad47bb5",
   "metadata": {},
   "outputs": [
    {
     "name": "stdout",
     "output_type": "stream",
     "text": [
      "Random 3x3 matrix:\n",
      "[[0.28322376 0.26380351 0.73747741]\n",
      " [0.62294003 0.40961804 0.80281759]\n",
      " [0.44313677 0.01150417 0.7224955 ]]\n",
      "Orthogonal matrix Q from Gram-Schmidt:\n",
      "[[ 0.34740526  0.4619311   0.81604488]\n",
      " [ 0.76410483  0.36499638 -0.53190361]\n",
      " [ 0.54355625 -0.80832995  0.22616212]]\n",
      "Q^T @ Q (should be identity):\n",
      "[[1 0 0]\n",
      " [0 0 0]\n",
      " [0 0 1]]\n"
     ]
    }
   ],
   "source": [
    "def generate_orthogonal_matrix_using_gram_schmidt(A):\n",
    "    Q = np.zeros_like(A)\n",
    "    for i in range(A.shape[1]):\n",
    "        u = A[:, i]\n",
    "        for j in range(i):\n",
    "            u -= np.dot(u, Q[:, j]) * Q[:, j]\n",
    "        Q[:, i] = u / np.linalg.norm(u)\n",
    "    return Q\n",
    "random_matrix = np.random.rand(3, 3)\n",
    "print(\"Random 3x3 matrix:\", random_matrix, sep=\"\\n\")\n",
    "Q = generate_orthogonal_matrix_using_gram_schmidt(random_matrix)\n",
    "print(\"Orthogonal matrix Q from Gram-Schmidt:\", Q, sep=\"\\n\")\n",
    "print(\"Q^T @ Q (should be identity):\", (Q.T @ Q).astype(int), sep=\"\\n\")"
   ]
  },
  {
   "cell_type": "markdown",
   "id": "5cda9e7f",
   "metadata": {},
   "source": [
    "1. Compute the eigenvalues and eigenvectors of  \n",
    "\n",
    "   $$\n",
    "   \\begin{bmatrix}\n",
    "   4 & 2 \\\\\n",
    "   1 & 3\n",
    "   \\end{bmatrix}\n",
    "   $$  "
   ]
  },
  {
   "cell_type": "code",
   "execution_count": 26,
   "id": "d348054e",
   "metadata": {},
   "outputs": [
    {
     "name": "stdout",
     "output_type": "stream",
     "text": [
      "Matrix A:\n",
      "[[4 2]\n",
      " [1 3]]\n",
      "Eigenvalues:\n",
      "[5. 2.]\n",
      "Eigenvectors:\n",
      "[[ 0.89442719 -0.70710678]\n",
      " [ 0.4472136   0.70710678]]\n"
     ]
    }
   ],
   "source": [
    "A = np.array([[4, 2],\n",
    "              [1, 3]])\n",
    "\n",
    "eigenvalues, eigenvectors = np.linalg.eig(A)\n",
    "print(\"Matrix A:\", A, sep=\"\\n\")\n",
    "print(\"Eigenvalues:\", eigenvalues, sep=\"\\n\")\n",
    "print(\"Eigenvectors:\", eigenvectors, sep=\"\\n\")"
   ]
  },
  {
   "cell_type": "markdown",
   "id": "965b3423",
   "metadata": {},
   "source": [
    "\n",
    "2. Verify in Python that $A v = \\lambda v$ for one eigenpair.  \n",
    "\n"
   ]
  },
  {
   "cell_type": "code",
   "execution_count": null,
   "id": "58ba17c0",
   "metadata": {},
   "outputs": [],
   "source": [
    "# verify A v = λ v for one eigenpair\n",
    "lambda_1 = eigenvalues[0]\n",
    "v1 = eigenvectors[:, 0]\n",
    "\n",
    "print(\"Verifying A v = λ v for the first eigenpair:\")\n",
    "print(\"A v1:\", A @ v1, sep=\"\\n\")\n",
    "print(\"λ1 v1:\", lambda_1 * v1, sep=\"\\n\")\n",
    "print(\"A v1 == λ1 v1 ?\", np.allclose(A @ v1, lambda_1 * v1)), lambda_1 * v1))"
   ]
  },
  {
   "cell_type": "markdown",
   "id": "fe9d2f88",
   "metadata": {},
   "source": [
    "3. Generate a random $3 \\times 3$ matrix in Python and compute its eigenvalues and eigenvectors using `np.linalg.eig`.  "
   ]
  },
  {
   "cell_type": "code",
   "execution_count": null,
   "id": "1d0991dd",
   "metadata": {},
   "outputs": [],
   "source": []
  }
 ],
 "metadata": {
  "kernelspec": {
   "display_name": "Python 3",
   "language": "python",
   "name": "python3"
  },
  "language_info": {
   "codemirror_mode": {
    "name": "ipython",
    "version": 3
   },
   "file_extension": ".py",
   "mimetype": "text/x-python",
   "name": "python",
   "nbconvert_exporter": "python",
   "pygments_lexer": "ipython3",
   "version": "3.11.9"
  }
 },
 "nbformat": 4,
 "nbformat_minor": 5
}
