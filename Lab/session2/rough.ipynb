{
 "cells": [
  {
   "cell_type": "markdown",
   "id": "58701559",
   "metadata": {},
   "source": [
    "# Session 2 — Rough Notebook\n",
    "Run the code hints from the Session 2 READMEs. This is a free-form execution notebook. You can change, re-run, and experiment.\n",
    "\n",
    "---"
   ]
  },
  {
   "cell_type": "markdown",
   "id": "d467ff6f",
   "metadata": {},
   "source": [
    "## Imports and helper functions"
   ]
  },
  {
   "cell_type": "code",
   "execution_count": 1,
   "id": "3a712e9a",
   "metadata": {},
   "outputs": [
    {
     "name": "stdout",
     "output_type": "stream",
     "text": [
      "Helper functions loaded.\n"
     ]
    }
   ],
   "source": [
    "import numpy as np\n",
    "from numpy.linalg import eig, det, inv, matrix_rank\n",
    "\n",
    "def gram_schmidt_cols(A):\n",
    "    A = A.astype(float)\n",
    "    m, n = A.shape\n",
    "    Q = np.zeros((m, n))\n",
    "    for j in range(n):\n",
    "        v = A[:, j].copy()\n",
    "        for i in range(j):\n",
    "            proj = np.dot(Q[:, i], A[:, j]) * Q[:, i]\n",
    "            v = v - proj\n",
    "        norm = np.linalg.norm(v)\n",
    "        if norm < 1e-12:\n",
    "            Q[:, j] = v\n",
    "        else:\n",
    "            Q[:, j] = v / norm\n",
    "    return Q\n",
    "\n",
    "print('Helper functions loaded.')"
   ]
  },
  {
   "cell_type": "markdown",
   "id": "b1c503b6",
   "metadata": {},
   "source": [
    "## Matrix transpose, determinant, inverse"
   ]
  },
  {
   "cell_type": "code",
   "execution_count": 2,
   "id": "e4cda3b6",
   "metadata": {},
   "outputs": [
    {
     "name": "stdout",
     "output_type": "stream",
     "text": [
      "A:\n",
      " [[0.03840801 0.65233987 0.97632649 0.4318799 ]\n",
      " [0.08323908 0.62945845 0.73604994 0.99714553]\n",
      " [0.57665392 0.25988573 0.57261664 0.91822607]\n",
      " [0.23143507 0.65646957 0.59251359 0.91463581]]\n",
      "\n",
      "A.T:\n",
      " [[0.03840801 0.08323908 0.57665392 0.23143507]\n",
      " [0.65233987 0.62945845 0.25988573 0.65646957]\n",
      " [0.97632649 0.73604994 0.57261664 0.59251359]\n",
      " [0.4318799  0.99714553 0.91822607 0.91463581]]\n",
      "\n",
      "det(A)= 0.06799200666296241\n",
      "\n",
      "inv(A) computed\n",
      "[[ 0.50949679 -3.63780847  1.22288254  2.4977159 ]\n",
      " [ 0.36670525 -3.2050184  -1.49834396  4.82521631]\n",
      " [ 1.30724971  1.20516723  0.86088235 -2.79541494]\n",
      " [-1.23897344  2.44013574  0.20829582 -1.19101544]]\n"
     ]
    }
   ],
   "source": [
    "# Example matrix\n",
    "A = np.random.rand(4,4)\n",
    "print('A:\\n', A)\n",
    "print('\\nA.T:\\n', A.T)\n",
    "print('\\ndet(A)=', det(A))\n",
    "# inverse only if det != 0\n",
    "if abs(det(A)) > 1e-12:\n",
    "    print('\\ninv(A) computed')\n",
    "    print(inv(A))\n",
    "else:\n",
    "    print('\\nMatrix singular; no inverse')"
   ]
  },
  {
   "cell_type": "markdown",
   "id": "f7464c79",
   "metadata": {},
   "source": [
    "## Solve linear system"
   ]
  },
  {
   "cell_type": "code",
   "execution_count": 3,
   "id": "3954249e",
   "metadata": {},
   "outputs": [
    {
     "name": "stdout",
     "output_type": "stream",
     "text": [
      "Solve A x = b -> [ 5.  3. -2.]\n"
     ]
    }
   ],
   "source": [
    "# Solve a sample linear system\n",
    "A = np.array([[1,1,1],[0,2,5],[2,5,-1]], dtype=float)\n",
    "b = np.array([6,-4,27], dtype=float)\n",
    "print('Solve A x = b ->', np.linalg.solve(A,b))"
   ]
  },
  {
   "cell_type": "markdown",
   "id": "88426c25",
   "metadata": {},
   "source": [
    "## Orthogonality check and QR to get orthogonal matrix"
   ]
  },
  {
   "cell_type": "code",
   "execution_count": 4,
   "id": "28026e5c",
   "metadata": {},
   "outputs": [
    {
     "name": "stdout",
     "output_type": "stream",
     "text": [
      "A^T A:\n",
      " [[0.916393   0.80822678 0.84339984]\n",
      " [0.80822678 1.31131647 0.88329052]\n",
      " [0.84339984 0.88329052 0.91452328]]\n",
      "Is orthogonal? False\n",
      "\n",
      "Q from QR:\n",
      " [[-0.64430477  0.36276989 -0.67325282]\n",
      " [-0.74406431 -0.5008095   0.44221957]\n",
      " [-0.17674746  0.78586758  0.59259808]]\n",
      "\n",
      "Q^T Q:\n",
      " [[ 1. -0.  0.]\n",
      " [-0.  1.  0.]\n",
      " [ 0.  0.  1.]]\n"
     ]
    }
   ],
   "source": [
    "# Orthogonality check for random matrix\n",
    "A = np.random.rand(3,3)\n",
    "print('A^T A:\\n', A.T @ A)\n",
    "print('Is orthogonal?', np.allclose(A.T @ A, np.eye(3)))\n",
    "\n",
    "# QR decomposition to obtain orthogonal Q\n",
    "Q, R = np.linalg.qr(np.random.rand(3,3))\n",
    "print('\\nQ from QR:\\n', Q)\n",
    "print('\\nQ^T Q:\\n', np.round(Q.T @ Q,6))"
   ]
  },
  {
   "cell_type": "markdown",
   "id": "dc5fda60",
   "metadata": {},
   "source": [
    "## Gram-Schmidt example"
   ]
  },
  {
   "cell_type": "code",
   "execution_count": 5,
   "id": "a923076d",
   "metadata": {},
   "outputs": [
    {
     "name": "stdout",
     "output_type": "stream",
     "text": [
      "Q:\n",
      " [[ 1.   0.   0. ]\n",
      " [ 0.   0.6  0.8]\n",
      " [ 0.   0.8 -0.6]]\n",
      "\n",
      "Q^T Q:\n",
      " [[ 1.  0.  0.]\n",
      " [ 0.  1. -0.]\n",
      " [ 0. -0.  1.]]\n"
     ]
    }
   ],
   "source": [
    "G = np.array([[2.0,2.0,4.0],[0.0,3.0,5.0],[0.0,4.0,5.0]])\n",
    "Q = gram_schmidt_cols(G)\n",
    "print('Q:\\n', Q)\n",
    "print('\\nQ^T Q:\\n', np.round(Q.T @ Q,6))"
   ]
  },
  {
   "cell_type": "markdown",
   "id": "01c20a17",
   "metadata": {},
   "source": [
    "## Eigen decomposition and diagonalization"
   ]
  },
  {
   "cell_type": "code",
   "execution_count": 6,
   "id": "f34c2cac",
   "metadata": {},
   "outputs": [
    {
     "name": "stdout",
     "output_type": "stream",
     "text": [
      "eigvals: [2.61803399 0.38196601]\n",
      "eigvecs:\n",
      " [[ 0.85065081 -0.52573111]\n",
      " [ 0.52573111  0.85065081]]\n",
      "\n",
      "A reconstructed:\n",
      " [[2. 1.]\n",
      " [1. 1.]]\n"
     ]
    }
   ],
   "source": [
    "A = np.array([[2,1],[1,1]], dtype=float)\n",
    "vals, vecs = eig(A)\n",
    "print('eigvals:', vals)\n",
    "print('eigvecs:\\n', vecs)\n",
    "# Diagonalize and compute power\n",
    "D = np.diag(vals)\n",
    "A_recon = vecs @ D @ np.linalg.inv(vecs)\n",
    "print('\\nA reconstructed:\\n', np.round(A_recon,6))"
   ]
  },
  {
   "cell_type": "markdown",
   "id": "2a6c4aa6",
   "metadata": {},
   "source": [
    "## Rotation matrix example"
   ]
  },
  {
   "cell_type": "code",
   "execution_count": 7,
   "id": "4ec7efaf",
   "metadata": {},
   "outputs": [
    {
     "name": "stdout",
     "output_type": "stream",
     "text": [
      "R:\n",
      " [[ 6.123234e-17 -1.000000e+00]\n",
      " [ 1.000000e+00  6.123234e-17]]\n",
      "\n",
      "Rounded R:\n",
      " [[ 0. -1.]\n",
      " [ 1.  0.]]\n"
     ]
    }
   ],
   "source": [
    "theta = np.pi/2\n",
    "R = np.array([[np.cos(theta), -np.sin(theta)],[np.sin(theta), np.cos(theta)]])\n",
    "print('R:\\n', R)\n",
    "print('\\nRounded R:\\n', np.round(R,6))"
   ]
  }
 ],
 "metadata": {
  "kernelspec": {
   "display_name": "Python 3",
   "language": "python",
   "name": "python3"
  },
  "language_info": {
   "codemirror_mode": {
    "name": "ipython",
    "version": 3
   },
   "file_extension": ".py",
   "mimetype": "text/x-python",
   "name": "python",
   "nbconvert_exporter": "python",
   "pygments_lexer": "ipython3",
   "version": "3.11.9"
  }
 },
 "nbformat": 4,
 "nbformat_minor": 5
}
