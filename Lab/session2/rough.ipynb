{
 "cells": [
  {
   "cell_type": "markdown",
   "id": "58701559",
   "metadata": {},
   "source": [
    "# Session 2 — Rough Notebook\n",
    "Run the code hints from the Session 2 READMEs. This is a free-form execution notebook. You can change, re-run, and experiment.\n",
    "\n",
    "---"
   ]
  },
  {
   "cell_type": "markdown",
   "id": "d467ff6f",
   "metadata": {},
   "source": [
    "## Imports and helper functions"
   ]
  },
  {
   "cell_type": "code",
   "execution_count": 8,
   "id": "3a712e9a",
   "metadata": {},
   "outputs": [
    {
     "name": "stdout",
     "output_type": "stream",
     "text": [
      "Helper functions loaded.\n"
     ]
    }
   ],
   "source": [
    "import numpy as np\n",
    "from numpy.linalg import eig, det, inv, matrix_rank\n",
    "\n",
    "def gram_schmidt_cols(A):\n",
    "    A = A.astype(float)\n",
    "    m, n = A.shape\n",
    "    Q = np.zeros((m, n))\n",
    "    for j in range(n):\n",
    "        v = A[:, j].copy()\n",
    "        for i in range(j):\n",
    "            proj = np.dot(Q[:, i], A[:, j]) * Q[:, i]\n",
    "            v = v - proj\n",
    "        norm = np.linalg.norm(v)\n",
    "        if norm < 1e-12:\n",
    "            Q[:, j] = v\n",
    "        else:\n",
    "            Q[:, j] = v / norm\n",
    "    return Q\n",
    "\n",
    "print('Helper functions loaded.')"
   ]
  },
  {
   "cell_type": "markdown",
   "id": "b1c503b6",
   "metadata": {},
   "source": [
    "## Matrix transpose, determinant, inverse"
   ]
  },
  {
   "cell_type": "code",
   "execution_count": 9,
   "id": "e4cda3b6",
   "metadata": {},
   "outputs": [
    {
     "name": "stdout",
     "output_type": "stream",
     "text": [
      "A:\n",
      " [[0.26370554 0.93662976 0.16443281 0.50380497]\n",
      " [0.84057924 0.6353519  0.80252722 0.25074555]\n",
      " [0.39729195 0.39989034 0.2698241  0.96309501]\n",
      " [0.12273327 0.33088483 0.36113526 0.33095108]]\n",
      "\n",
      "A.T:\n",
      " [[0.26370554 0.84057924 0.39729195 0.12273327]\n",
      " [0.93662976 0.6353519  0.39989034 0.33088483]\n",
      " [0.16443281 0.80252722 0.2698241  0.36113526]\n",
      " [0.50380497 0.25074555 0.96309501 0.33095108]]\n",
      "\n",
      "det(A)= 0.14228246571550293\n",
      "\n",
      "inv(A) computed\n",
      "[[-0.00622156  1.29117716  0.87736383 -3.52199248]\n",
      " [ 1.40764335 -0.10369656 -0.76460672  0.16078706]\n",
      " [-1.01492775  0.14107466 -0.68404051  3.42874791]\n",
      " [-0.29756071 -0.52909876  1.18551114  0.42550657]]\n"
     ]
    }
   ],
   "source": [
    "# Example matrix\n",
    "A = np.random.rand(4,4)\n",
    "print('A:\\n', A)\n",
    "print('\\nA.T:\\n', A.T)\n",
    "print('\\ndet(A)=', det(A))\n",
    "# inverse only if det != 0\n",
    "if abs(det(A)) > 1e-12:\n",
    "    print('\\ninv(A) computed')\n",
    "    print(inv(A))\n",
    "else:\n",
    "    print('\\nMatrix singular; no inverse')"
   ]
  },
  {
   "cell_type": "markdown",
   "id": "f7464c79",
   "metadata": {},
   "source": [
    "## Solve linear system"
   ]
  },
  {
   "cell_type": "code",
   "execution_count": 10,
   "id": "3954249e",
   "metadata": {},
   "outputs": [
    {
     "name": "stdout",
     "output_type": "stream",
     "text": [
      "Solve A x = b -> [ 5.  3. -2.]\n"
     ]
    }
   ],
   "source": [
    "# Solve a sample linear system\n",
    "A = np.array([[1,1,1],[0,2,5],[2,5,-1]], dtype=float)\n",
    "b = np.array([6,-4,27], dtype=float)\n",
    "print('Solve A x = b ->', np.linalg.solve(A,b))"
   ]
  },
  {
   "cell_type": "markdown",
   "id": "88426c25",
   "metadata": {},
   "source": [
    "## Orthogonality check and QR to get orthogonal matrix"
   ]
  },
  {
   "cell_type": "code",
   "execution_count": 11,
   "id": "28026e5c",
   "metadata": {},
   "outputs": [
    {
     "name": "stdout",
     "output_type": "stream",
     "text": [
      "A^T A:\n",
      " [[0.74505171 0.90780714 0.67045062]\n",
      " [0.90780714 1.17324934 0.83796528]\n",
      " [0.67045062 0.83796528 0.65887845]]\n",
      "Is orthogonal? False\n",
      "\n",
      "Q from QR:\n",
      " [[-0.2072843   0.97826343  0.00582051]\n",
      " [-0.77398285 -0.16035461 -0.61256587]\n",
      " [-0.59831745 -0.13148026  0.79039811]]\n",
      "\n",
      "Q^T Q:\n",
      " [[ 1.  0. -0.]\n",
      " [ 0.  1.  0.]\n",
      " [-0.  0.  1.]]\n"
     ]
    }
   ],
   "source": [
    "# Orthogonality check for random matrix\n",
    "A = np.random.rand(3,3)\n",
    "print('A^T A:\\n', A.T @ A)\n",
    "print('Is orthogonal?', np.allclose(A.T @ A, np.eye(3)))\n",
    "\n",
    "# QR decomposition to obtain orthogonal Q\n",
    "Q, R = np.linalg.qr(np.random.rand(3,3))\n",
    "print('\\nQ from QR:\\n', Q)\n",
    "print('\\nQ^T Q:\\n', np.round(Q.T @ Q,6))"
   ]
  },
  {
   "cell_type": "markdown",
   "id": "dc5fda60",
   "metadata": {},
   "source": [
    "## Gram-Schmidt example"
   ]
  },
  {
   "cell_type": "code",
   "execution_count": 12,
   "id": "a923076d",
   "metadata": {},
   "outputs": [
    {
     "name": "stdout",
     "output_type": "stream",
     "text": [
      "Q:\n",
      " [[ 1.   0.   0. ]\n",
      " [ 0.   0.6  0.8]\n",
      " [ 0.   0.8 -0.6]]\n",
      "\n",
      "Q^T Q:\n",
      " [[ 1.  0.  0.]\n",
      " [ 0.  1. -0.]\n",
      " [ 0. -0.  1.]]\n"
     ]
    }
   ],
   "source": [
    "G = np.array([[2.0,2.0,4.0],[0.0,3.0,5.0],[0.0,4.0,5.0]])\n",
    "Q = gram_schmidt_cols(G)\n",
    "print('Q:\\n', Q)\n",
    "print('\\nQ^T Q:\\n', np.round(Q.T @ Q,6))"
   ]
  },
  {
   "cell_type": "markdown",
   "id": "01c20a17",
   "metadata": {},
   "source": [
    "## Eigen decomposition and diagonalization"
   ]
  },
  {
   "cell_type": "code",
   "execution_count": 13,
   "id": "f34c2cac",
   "metadata": {},
   "outputs": [
    {
     "name": "stdout",
     "output_type": "stream",
     "text": [
      "eigvals: [2.61803399 0.38196601]\n",
      "eigvecs:\n",
      " [[ 0.85065081 -0.52573111]\n",
      " [ 0.52573111  0.85065081]]\n",
      "\n",
      "A reconstructed:\n",
      " [[2. 1.]\n",
      " [1. 1.]]\n"
     ]
    }
   ],
   "source": [
    "A = np.array([[2,1],[1,1]], dtype=float)\n",
    "vals, vecs = eig(A)\n",
    "print('eigvals:', vals)\n",
    "print('eigvecs:\\n', vecs)\n",
    "# Diagonalize and compute power\n",
    "D = np.diag(vals)\n",
    "A_recon = vecs @ D @ np.linalg.inv(vecs)\n",
    "print('\\nA reconstructed:\\n', np.round(A_recon,6))"
   ]
  },
  {
   "cell_type": "markdown",
   "id": "2a6c4aa6",
   "metadata": {},
   "source": [
    "## Rotation matrix example"
   ]
  },
  {
   "cell_type": "code",
   "execution_count": 14,
   "id": "4ec7efaf",
   "metadata": {},
   "outputs": [
    {
     "name": "stdout",
     "output_type": "stream",
     "text": [
      "R:\n",
      " [[ 6.123234e-17 -1.000000e+00]\n",
      " [ 1.000000e+00  6.123234e-17]]\n",
      "\n",
      "Rounded R:\n",
      " [[ 0. -1.]\n",
      " [ 1.  0.]]\n"
     ]
    }
   ],
   "source": [
    "theta = np.pi/2\n",
    "R = np.array([[np.cos(theta), -np.sin(theta)],[np.sin(theta), np.cos(theta)]])\n",
    "print('R:\\n', R)\n",
    "print('\\nRounded R:\\n', np.round(R,6))"
   ]
  }
 ],
 "metadata": {
  "language_info": {
   "name": "python"
  }
 },
 "nbformat": 4,
 "nbformat_minor": 5
}
