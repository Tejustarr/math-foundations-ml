{
 "cells": [
  {
   "cell_type": "markdown",
   "id": "de89dad9",
   "metadata": {},
   "source": [
    "# Session 2 — Rough Notebook\n",
    "\n",
    "Use this notebook for experiments, notes, and quick tests. This file is intentionally free-form.\n",
    "\n",
    "Examples:\n",
    "- Try small modifications to the practice problems\n",
    "- Plot transforms on sample vectors\n",
    "\n",
    "---"
   ]
  },
  {
   "cell_type": "code",
   "execution_count": null,
   "id": "77011164",
   "metadata": {},
   "outputs": [],
   "source": [
    "# Start coding here\n",
    "import numpy as np\n",
    "# Example: create random matrix\n",
    "A = np.random.rand(4,4)\n",
    "A_T = A.T\n",
    "A @ A_T\n"
   ]
  }
 ],
 "metadata": {},
 "nbformat": 4,
 "nbformat_minor": 5
}
