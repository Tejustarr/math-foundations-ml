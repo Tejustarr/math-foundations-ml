{
 "cells": [
  {
   "cell_type": "code",
   "execution_count": 1,
   "id": "3a434649",
   "metadata": {},
   "outputs": [
    {
     "name": "stdout",
     "output_type": "stream",
     "text": [
      "Scaling: [4.  4.5]\n",
      "Reflection (x-axis): [ 2 -3]\n",
      "Projection: [2 0]\n",
      "Rotation 45°: [-0.70710678  3.53553391]\n"
     ]
    }
   ],
   "source": [
    "import numpy as np\n",
    "\n",
    "# Example vector\n",
    "v = np.array([2, 3])\n",
    "\n",
    "# Scaling\n",
    "S = np.array([[2, 0],\n",
    "              [0, 1.5]])\n",
    "print(\"Scaling:\", S @ v)\n",
    "\n",
    "# Reflection about x-axis\n",
    "Rx = np.array([[1, 0],\n",
    "               [0, -1]])\n",
    "print(\"Reflection (x-axis):\", Rx @ v)\n",
    "\n",
    "# Projection onto x-axis\n",
    "P = np.array([[1, 0],\n",
    "              [0, 0]])\n",
    "print(\"Projection:\", P @ v)\n",
    "\n",
    "# Rotation 45 degrees\n",
    "theta = np.pi / 4\n",
    "R = np.array([[np.cos(theta), -np.sin(theta)],\n",
    "              [np.sin(theta),  np.cos(theta)]])\n",
    "print(\"Rotation 45°:\", R @ v)"
   ]
  },
  {
   "cell_type": "code",
   "execution_count": 2,
   "id": "1b230ebb",
   "metadata": {},
   "outputs": [
    {
     "name": "stdout",
     "output_type": "stream",
     "text": [
      "Determinant (2x2): 5.000000000000001\n",
      "Determinant (3x3): 4.000000000000003\n"
     ]
    }
   ],
   "source": [
    "# 2x2 matrix\n",
    "A = np.array([[2, 3],\n",
    "              [1, 4]])\n",
    "print(\"Determinant (2x2):\", np.linalg.det(A))\n",
    "\n",
    "# 3x3 matrix\n",
    "B = np.array([[2, 3, 4],\n",
    "              [3, 4, 5],\n",
    "              [5, 6, 3]])\n",
    "print(\"Determinant (3x3):\", np.linalg.det(B))"
   ]
  },
  {
   "cell_type": "code",
   "execution_count": 3,
   "id": "349f1ebb",
   "metadata": {},
   "outputs": [
    {
     "name": "stdout",
     "output_type": "stream",
     "text": [
      "Inverse of A:\n",
      " [[ 4. -1.]\n",
      " [-7.  2.]]\n",
      "Verification (A * A^-1):\n",
      " [[1. 0.]\n",
      " [0. 1.]]\n"
     ]
    }
   ],
   "source": [
    "# Example matrix\n",
    "A = np.array([[2, 1],\n",
    "              [7, 4]])\n",
    "\n",
    "# Inverse\n",
    "inv_A = np.linalg.inv(A)\n",
    "print(\"Inverse of A:\\n\", inv_A)\n",
    "\n",
    "# Verify A * A^-1 = I\n",
    "I = A @ inv_A\n",
    "print(\"Verification (A * A^-1):\\n\", I)"
   ]
  },
  {
   "cell_type": "code",
   "execution_count": 4,
   "id": "08ad70a1",
   "metadata": {},
   "outputs": [
    {
     "name": "stdout",
     "output_type": "stream",
     "text": [
      "Determinant (Diagonal): 100.00000000000004\n",
      "Inverse (Diagonal):\n",
      " [[0.5 0.  0. ]\n",
      " [0.  0.2 0. ]\n",
      " [0.  0.  0.1]]\n",
      "\n",
      "Determinant (Orthogonal): 1.0\n",
      "Q^T == Q^-1 ? True\n",
      "\n",
      "Determinant (Upper Triangular): 59.999999999999986\n"
     ]
    }
   ],
   "source": [
    "# Diagonal matrix\n",
    "D = np.diag([2, 5, 10])\n",
    "print(\"Determinant (Diagonal):\", np.linalg.det(D))\n",
    "print(\"Inverse (Diagonal):\\n\", np.linalg.inv(D), end=\"\\n\\n\")\n",
    "\n",
    "# Orthogonal matrix example (rotation 90°)\n",
    "Q = np.array([[0, -1],\n",
    "              [1,  0]])\n",
    "print(\"Determinant (Orthogonal):\", np.linalg.det(Q))\n",
    "print(\"Q^T == Q^-1 ?\", np.allclose(Q.T, np.linalg.inv(Q)), end=\"\\n\\n\")\n",
    "\n",
    "# Upper triangular matrix\n",
    "U = np.array([[2, 3, 1],\n",
    "              [0, 5, 4],\n",
    "              [0, 0, 6]])\n",
    "print(\"Determinant (Upper Triangular):\", np.linalg.det(U))"
   ]
  },
  {
   "cell_type": "code",
   "execution_count": 21,
   "id": "121ea1a8",
   "metadata": {},
   "outputs": [
    {
     "name": "stdout",
     "output_type": "stream",
     "text": [
      "Orthonormal basis:\n",
      " [[ 1.   0.   0. ]\n",
      " [ 0.   0.6  0.8]\n",
      " [ 0.   0.8 -0.6]]\n",
      "Check Q^T Q = I:\n",
      " [[ 1.00000000e+00  0.00000000e+00  0.00000000e+00]\n",
      " [ 0.00000000e+00  1.00000000e+00 -6.03961325e-16]\n",
      " [ 0.00000000e+00 -6.03961325e-16  1.00000000e+00]]\n"
     ]
    }
   ],
   "source": [
    "def gram_schmidt(A):\n",
    "    \"\"\"Orthonormalize the columns of matrix A using Gram-Schmidt.\"\"\"\n",
    "    # here setting dtype to float to avoid integer division issues\n",
    "    Q = np.zeros_like(A, dtype=float)\n",
    "    # here we iterate over columns of A\n",
    "    for i in range(A.shape[1]):\n",
    "        #  here we convert to float to avoid integer division issues\n",
    "        v = A[:, i].astype(float)\n",
    "        # here we iterate over previous columns\n",
    "        for j in range(i):\n",
    "            # here we project v onto Q[:, j] and subtract it from v\n",
    "            v -= np.dot(Q[:, j], A[:, i]) * Q[:, j]\n",
    "        # here we normalize v to get the orthonormal vector\n",
    "        Q[:, i] = v / np.linalg.norm(v)\n",
    "    return Q\n",
    "\n",
    "# Example\n",
    "A = np.array([[2, 2, 4],\n",
    "              [0, 3, 5],\n",
    "              [0, 4, 5]])\n",
    "Q = gram_schmidt(A)\n",
    "print(\"Orthonormal basis:\\n\", Q)\n",
    "print(\"Check Q^T Q = I:\\n\", Q.T @ Q)"
   ]
  },
  {
   "cell_type": "code",
   "execution_count": 22,
   "id": "d180b279",
   "metadata": {},
   "outputs": [
    {
     "name": "stdout",
     "output_type": "stream",
     "text": [
      "Eigenvalues: [2.61803399 0.38196601]\n",
      "Eigenvectors:\n",
      " [[ 0.85065081 -0.52573111]\n",
      " [ 0.52573111  0.85065081]]\n"
     ]
    }
   ],
   "source": [
    "A = np.array([[2, 1],\n",
    "              [1, 1]])\n",
    "\n",
    "# Eigenvalues and Eigenvectors\n",
    "eigvals, eigvecs = np.linalg.eig(A)\n",
    "print(\"Eigenvalues:\", eigvals)\n",
    "print(\"Eigenvectors:\\n\", eigvecs)"
   ]
  },
  {
   "cell_type": "code",
   "execution_count": null,
   "id": "83125516",
   "metadata": {},
   "outputs": [],
   "source": []
  }
 ],
 "metadata": {
  "kernelspec": {
   "display_name": "Python 3",
   "language": "python",
   "name": "python3"
  },
  "language_info": {
   "codemirror_mode": {
    "name": "ipython",
    "version": 3
   },
   "file_extension": ".py",
   "mimetype": "text/x-python",
   "name": "python",
   "nbconvert_exporter": "python",
   "pygments_lexer": "ipython3",
   "version": "3.11.9"
  }
 },
 "nbformat": 4,
 "nbformat_minor": 5
}
