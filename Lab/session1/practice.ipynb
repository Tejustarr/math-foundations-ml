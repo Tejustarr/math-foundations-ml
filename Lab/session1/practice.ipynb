{
 "cells": [
  {
   "cell_type": "markdown",
   "id": "26c59768",
   "metadata": {},
   "source": [
    "###### 1. Represent and solve the following system in matrix form:\n",
    "   $$\n",
    "   \\begin{aligned}\n",
    "   x + y + z &= 6 \\\\\n",
    "   2y + 5z &= -4 \\\\\n",
    "   2x + 5y - z &= 27\n",
    "   \\end{aligned}\n",
    "   $$\n",
    "###### 2. Create a $4 \\times 4$ random matrix using NumPy and compute its transpose."
   ]
  },
  {
   "cell_type": "code",
   "execution_count": 1,
   "id": "333f700c",
   "metadata": {},
   "outputs": [
    {
     "name": "stdout",
     "output_type": "stream",
     "text": [
      "So the solution is:\n",
      "      x = 5.0\n",
      "      y = 3.0      \n",
      "      z = -2.0\n",
      "B = [ 6. -4. 27.]\n"
     ]
    }
   ],
   "source": [
    "# 1. Represent and solve the following system in matrix form:\n",
    "import numpy as np\n",
    "\n",
    "A = np.array([[1, 1, 1],\n",
    "              [0, 2, 5],\n",
    "              [2, 5, -1]])\n",
    "\n",
    "B = np.array([6, -4, 27])\n",
    "\n",
    "# AX = B\n",
    "X = np.linalg.solve(A, B)\n",
    "print(f'''So the solution is:\n",
    "      x = {X[0]}\n",
    "      y = {X[1]}      \n",
    "      z = {X[2]}''')\n",
    "\n",
    "# confirming solution\n",
    "# B = AX\n",
    "B2 = np.dot(A, X)\n",
    "print(f'''B = {B2}''')"
   ]
  },
  {
   "cell_type": "code",
   "execution_count": 2,
   "id": "363cf211",
   "metadata": {},
   "outputs": [
    {
     "name": "stdout",
     "output_type": "stream",
     "text": [
      "A Matrix:\n",
      "[[0.0040763  0.62672833 0.64478148 0.73381119]\n",
      " [0.0240841  0.00098504 0.64314341 0.92549476]\n",
      " [0.74165422 0.88306723 0.90024956 0.97844136]\n",
      " [0.02363808 0.87779437 0.15115643 0.35778524]]\n",
      "\n",
      "A' (Transpose of A):\n",
      "[[0.0040763  0.0240841  0.74165422 0.02363808]\n",
      " [0.62672833 0.00098504 0.88306723 0.87779437]\n",
      " [0.64478148 0.64314341 0.90024956 0.15115643]\n",
      " [0.73381119 0.92549476 0.97844136 0.35778524]]\n",
      "\n",
      "Shape of A: (4, 4)\n",
      "Shape of A': (4, 4)\n"
     ]
    }
   ],
   "source": [
    "# Create a 4x4 random matrix\n",
    "A = np.random.rand(4, 4)\n",
    "print(f\"A Matrix:\\n{A}\\n\")\n",
    "\n",
    "# Transpose of A\n",
    "A_T = np.transpose(A)   # or simply A.T\n",
    "print(f\"A' (Transpose of A):\\n{A_T}\\n\")\n",
    "\n",
    "# Confirm shape\n",
    "print(f\"Shape of A: {A.shape}\")\n",
    "print(f\"Shape of A': {A_T.shape}\")\n"
   ]
  },
  {
   "cell_type": "markdown",
   "id": "775fdb74",
   "metadata": {},
   "source": [
    "###### 1. Represent a $3 \\times 3$ grayscale image using a NumPy array.  \n",
    "######   - Multiply it by a scalar (e.g., 2) to brighten the image.  \n",
    "###### 2. Given a feature matrix $X$ (4 samples × 2 features), create a random weight vector $W$ and compute $Y = XW$.  \n",
    "###### 3. Write down in words how PCA (dimensionality reduction) uses eigenvectors. "
   ]
  },
  {
   "cell_type": "code",
   "execution_count": 18,
   "id": "62d1b2e2",
   "metadata": {},
   "outputs": [
    {
     "name": "stdout",
     "output_type": "stream",
     "text": [
      "[[223  70 196]\n",
      " [ 12  49 248]\n",
      " [191  48  19]]\n"
     ]
    },
    {
     "data": {
      "image/png": "[encoded data removed]",
      "text/plain": [
       "<Figure size 640x480 with 1 Axes>"
      ]
     },
     "metadata": {},
     "output_type": "display_data"
    },
    {
     "name": "stdout",
     "output_type": "stream",
     "text": [
      "[[446 140 392]\n",
      " [ 24  98 496]\n",
      " [382  96  38]]\n"
     ]
    },
    {
     "data": {
      "image/png": "[encoded data removed]",
      "text/plain": [
       "<Figure size 640x480 with 1 Axes>"
      ]
     },
     "metadata": {},
     "output_type": "display_data"
    }
   ],
   "source": [
    "# 1. Represent and solve the following system in matrix form:\n",
    "\n",
    "from matplotlib import pyplot as plt\n",
    "\n",
    "greyscale_matrix = np.random.randint(0, 256, (3, 3))\n",
    "print(greyscale_matrix)\n",
    "plt.imshow(greyscale_matrix, cmap='gray')\n",
    "plt.show()\n",
    "\n",
    "brightness_matrix = greyscale_matrix*2\n",
    "print(brightness_matrix)\n",
    "plt.imshow(brightness_matrix, cmap='gray')\n",
    "plt.show()\n"
   ]
  },
  {
   "cell_type": "code",
   "execution_count": 27,
   "id": "d16ea9c3",
   "metadata": {},
   "outputs": [
    {
     "name": "stdout",
     "output_type": "stream",
     "text": [
      "X:\n",
      "[[ 53 254]\n",
      " [253 153]\n",
      " [ 54 117]\n",
      " [ 46 180]]\n",
      "\n",
      "W:\n",
      "[[9]\n",
      " [9]]\n",
      "\n",
      "Y:\n",
      "[[2763]\n",
      " [3654]\n",
      " [1539]\n",
      " [2034]]\n",
      "\n"
     ]
    }
   ],
   "source": [
    "# Q2\n",
    "\n",
    "X = np.random.randint(0, 255, (4, 2))\n",
    "print(f\"X:\\n{X}\\n\")\n",
    "\n",
    "W = np.random.randint(1, 10, (2, 1))\n",
    "print(f\"W:\\n{W}\\n\")\n",
    "\n",
    "# Y = XW\n",
    "Y = np.dot(X, W)\n",
    "print(f\"Y:\\n{Y}\\n\")"
   ]
  },
  {
   "cell_type": "markdown",
   "id": "00bdf3db",
   "metadata": {},
   "source": [
    "###### 1. Let $\\vec{u} = (3,4)$ and $\\vec{v} = (4,-3)$.  \n",
    "######    - Compute $\\vec{u} \\cdot \\vec{v}$  \n",
    "######    - Verify if they are orthogonal.  "
   ]
  },
  {
   "cell_type": "code",
   "execution_count": 28,
   "id": "d9aeb4a9",
   "metadata": {},
   "outputs": [
    {
     "name": "stdout",
     "output_type": "stream",
     "text": [
      "Dot Product of u and v: 0\n",
      "u and v are orthogonal.\n"
     ]
    }
   ],
   "source": [
    "u = np.array([3, 4])\n",
    "v = np.array([4, -3])\n",
    "\n",
    "# Dot product\n",
    "dot_product = np.dot(u, v)\n",
    "print(f\"Dot Product of u and v: {dot_product}\")\n",
    "\n",
    "# Check orthogonality\n",
    "if dot_product == 0:\n",
    "    print(\"u and v are orthogonal.\")\n",
    "else:\n",
    "    print(\"u and v are not orthogonal.\")"
   ]
  },
  {
   "cell_type": "markdown",
   "id": "dd005bfa",
   "metadata": {},
   "source": [
    "###### 2. For $\\vec{u} = (1,2,3)$ and $\\vec{v} = (4,5,6)$:  \n",
    "######    - Compute $\\vec{u} \\times \\vec{v}$.  \n"
   ]
  },
  {
   "cell_type": "code",
   "execution_count": 29,
   "id": "b6f894ae",
   "metadata": {},
   "outputs": [
    {
     "name": "stdout",
     "output_type": "stream",
     "text": [
      "Cross Product of u and v: [-3  6 -3]\n"
     ]
    }
   ],
   "source": [
    "u = np.array([1, 2, 3])\n",
    "v = np.array([4, 5, 6])\n",
    "\n",
    "# Cross product\n",
    "cross_product = np.cross(u, v)\n",
    "print(f\"Cross Product of u and v: {cross_product}\")"
   ]
  },
  {
   "cell_type": "markdown",
   "id": "17412e56",
   "metadata": {},
   "source": [
    "###### 3. Generate a random 5D vector in Python and compute its L1, L2, and L∞ (Chebyshev) norms. "
   ]
  },
  {
   "cell_type": "code",
   "execution_count": 32,
   "id": "d87b989a",
   "metadata": {},
   "outputs": [
    {
     "name": "stdout",
     "output_type": "stream",
     "text": [
      "5D Vector: [0.56779862 0.66977268 0.59642577 0.38842264 0.5612308 ]\n",
      "L1 Norm: 2.7836505111013214\n",
      "L2 Norm: 1.261969323876255\n",
      "L∞ (Chebyshev) Norm: 0.6697726817272126\n"
     ]
    }
   ],
   "source": [
    "vector_5d = np.random.rand(5)\n",
    "print(f\"5D Vector: {vector_5d}\")\n",
    "\n",
    "# L1 norm\n",
    "l1_norm = np.linalg.norm(vector_5d, ord=1)\n",
    "print(f\"L1 Norm: {l1_norm}\")\n",
    "\n",
    "# L2 norm\n",
    "l2_norm = np.linalg.norm(vector_5d, ord=2)\n",
    "print(f\"L2 Norm: {l2_norm}\")\n",
    "\n",
    "# L∞ (Chebyshev) norm\n",
    "linf_norm = np.linalg.norm(vector_5d, ord=np.inf)\n",
    "print(f\"L∞ (Chebyshev) Norm: {linf_norm}\")"
   ]
  },
  {
   "cell_type": "markdown",
   "id": "a2f968fc",
   "metadata": {},
   "source": [
    "###### 1. Check if the following vectors are independent:  \n",
    "######    $\\vec{v}_1 = (2,3,1)$, $\\vec{v}_2 = (4,6,2)$, $\\vec{v}_3 = (1,0,1)$.  "
   ]
  },
  {
   "cell_type": "code",
   "execution_count": 35,
   "id": "55877789",
   "metadata": {},
   "outputs": [
    {
     "name": "stdout",
     "output_type": "stream",
     "text": [
      "Matrix formed by v1, v2, v3:\n",
      "[[2 3 1]\n",
      " [4 6 2]\n",
      " [1 0 1]]\n",
      "Determinant of A: 0.0\n",
      "The vectors v1, v2, and v3 are linearly dependent.\n"
     ]
    }
   ],
   "source": [
    "v1 = np.array([2, 3, 1])\n",
    "v2 = np.array([4, 6, 2])\n",
    "v3 = np.array([1, 0, 1])\n",
    "\n",
    "# Horizontal stack to form a matrix\n",
    "matrix = np.vstack([v1, v2, v3])\n",
    "print(f\"Matrix formed by v1, v2, v3:\\n{matrix}\")\n",
    "\n",
    "det_A = np.linalg.det(matrix)\n",
    "print(f\"Determinant of A: {det_A}\")\n",
    "\n",
    "if det_A != 0:\n",
    "    print(\"The vectors v1, v2, and v3 are linearly independent.\")\n",
    "else:\n",
    "    print(\"The vectors v1, v2, and v3 are linearly dependent.\")"
   ]
  },
  {
   "cell_type": "markdown",
   "id": "2ecba504",
   "metadata": {},
   "source": [
    "###### 2. Create three random $3D$ vectors in Python and check if they are linearly independent using determinant.  "
   ]
  },
  {
   "cell_type": "code",
   "execution_count": 39,
   "id": "10040537",
   "metadata": {},
   "outputs": [
    {
     "name": "stdout",
     "output_type": "stream",
     "text": [
      "Matrix formed by three random 3D vectors:\n",
      "[[0.82548464 0.21889542 0.30662027]\n",
      " [0.77490886 0.35438446 0.53835845]\n",
      " [0.82190194 0.4731045  0.37204618]]\n",
      "Determinant of the 3D matrix: -0.04456250029297235\n",
      "The three random 3D vectors are linearly independent.\n"
     ]
    }
   ],
   "source": [
    "vector_3d_1 = np.random.rand(3)\n",
    "vector_3d_2 = np.random.rand(3)\n",
    "vector_3d_3 = np.random.rand(3)\n",
    "\n",
    "matrix_3d = np.vstack([vector_3d_1, vector_3d_2, vector_3d_3])\n",
    "print(f\"Matrix formed by three random 3D vectors:\\n{matrix_3d}\")\n",
    "det_3d = np.linalg.det(matrix_3d)\n",
    "print(f\"Determinant of the 3D matrix: {det_3d}\")\n",
    "if det_3d != 0:\n",
    "    print(\"The three random 3D vectors are linearly independent.\")\n",
    "else:\n",
    "    print(\"The three random 3D vectors are linearly dependent.\")"
   ]
  },
  {
   "cell_type": "markdown",
   "id": "8075633c",
   "metadata": {},
   "source": [
    "###### 3. Verify that standard basis vectors in 2D, $(1,0)$ and $(0,1)$, are linearly independent. "
   ]
  },
  {
   "cell_type": "code",
   "execution_count": 40,
   "id": "936d8344",
   "metadata": {},
   "outputs": [
    {
     "name": "stdout",
     "output_type": "stream",
     "text": [
      "Matrix formed by standard basis vectors:\n",
      "[[1 0]\n",
      " [0 1]]\n",
      "Determinant of the 2D matrix: 1.0\n",
      "The standard basis vectors are linearly independent.\n"
     ]
    }
   ],
   "source": [
    "u = np.array([1, 0])\n",
    "v = np.array([0, 1])\n",
    "\n",
    "matrix_2d = np.vstack([u, v])\n",
    "print(f\"Matrix formed by standard basis vectors:\\n{matrix_2d}\")\n",
    "\n",
    "det_2d = np.linalg.det(matrix_2d)\n",
    "print(f\"Determinant of the 2D matrix: {det_2d}\")\n",
    "\n",
    "if det_2d != 0:\n",
    "    print(\"The standard basis vectors are linearly independent.\")\n",
    "else:\n",
    "    print(\"The standard basis vectors are linearly dependent.\")"
   ]
  },
  {
   "cell_type": "code",
   "execution_count": null,
   "id": "138abe28",
   "metadata": {},
   "outputs": [],
   "source": []
  }
 ],
 "metadata": {
  "kernelspec": {
   "display_name": "Python 3",
   "language": "python",
   "name": "python3"
  },
  "language_info": {
   "codemirror_mode": {
    "name": "ipython",
    "version": 3
   },
   "file_extension": ".py",
   "mimetype": "text/x-python",
   "name": "python",
   "nbconvert_exporter": "python",
   "pygments_lexer": "ipython3",
   "version": "3.11.9"
  }
 },
 "nbformat": 4,
 "nbformat_minor": 5
}
