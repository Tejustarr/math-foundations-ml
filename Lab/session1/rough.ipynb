{
 "cells": [
  {
   "cell_type": "code",
   "execution_count": 1,
   "id": "5958dc25",
   "metadata": {},
   "outputs": [
    {
     "name": "stdout",
     "output_type": "stream",
     "text": [
      "Solution for [a, b, c]: [ 3.5 -0.4  1.3]\n"
     ]
    }
   ],
   "source": [
    "import numpy as np\n",
    "\n",
    "# Coefficient matrix A\n",
    "A = np.array([[2, 3, 4],\n",
    "              [3, 5, 5],\n",
    "              [5, 6, 3]])\n",
    "\n",
    "# Result vector B\n",
    "B = np.array([11, 15, 19])\n",
    "\n",
    "# Solve AX = B\n",
    "X = np.linalg.solve(A, B)\n",
    "print(\"Solution for [a, b, c]:\", X)"
   ]
  },
  {
   "cell_type": "code",
   "execution_count": 2,
   "id": "a9a70a53",
   "metadata": {},
   "outputs": [
    {
     "name": "stdout",
     "output_type": "stream",
     "text": [
      "Predictions:\n",
      " [[ 5]\n",
      " [11]\n",
      " [17]]\n",
      "Image matrix:\n",
      " [[187 200 153  24]\n",
      " [158  75  68 231]\n",
      " [232  39  17 226]\n",
      " [142 192 185  60]]\n"
     ]
    }
   ],
   "source": [
    "# Example: Linear transformation\n",
    "X = np.array([[1, 2],\n",
    "              [3, 4],\n",
    "              [5, 6]])   # Feature matrix\n",
    "\n",
    "W = np.array([[2],\n",
    "              [1]])      # Weights\n",
    "\n",
    "b = 1                   # Bias\n",
    "\n",
    "# Compute prediction Y = XW + b\n",
    "Y = X @ W + b\n",
    "print(\"Predictions:\\n\", Y)\n",
    "\n",
    "# Example: Image as matrix\n",
    "image = np.random.randint(0, 256, (4, 4))  # 4x4 grayscale image\n",
    "print(\"Image matrix:\\n\", image)"
   ]
  },
  {
   "cell_type": "code",
   "execution_count": 3,
   "id": "b48362f6",
   "metadata": {},
   "outputs": [
    {
     "name": "stdout",
     "output_type": "stream",
     "text": [
      "u + v = [3 7]\n",
      "u - v = [ 1 -1]\n",
      "2 * u = [4 6]\n",
      "Dot product: 14\n",
      "L1 norm of u: 5.0\n",
      "L2 norm of u: 3.605551275463989\n"
     ]
    }
   ],
   "source": [
    "u = np.array([2, 3])\n",
    "v = np.array([1, 4])\n",
    "\n",
    "# Addition\n",
    "print(\"u + v =\", u + v)\n",
    "\n",
    "# Subtraction\n",
    "print(\"u - v =\", u - v)\n",
    "\n",
    "# Scalar multiplication\n",
    "print(\"2 * u =\", 2 * u)\n",
    "\n",
    "# Dot product\n",
    "print(\"Dot product:\", np.dot(u, v))\n",
    "\n",
    "# Norms\n",
    "print(\"L1 norm of u:\", np.linalg.norm(u, ord=1))\n",
    "print(\"L2 norm of u:\", np.linalg.norm(u))"
   ]
  },
  {
   "cell_type": "code",
   "execution_count": 4,
   "id": "ef877de0",
   "metadata": {},
   "outputs": [
    {
     "name": "stdout",
     "output_type": "stream",
     "text": [
      "Determinant of A: 0.0\n",
      "Vectors are linearly dependent\n"
     ]
    }
   ],
   "source": [
    "# Example vectors as rows of matrix\n",
    "A = np.array([[1, 2, 3],\n",
    "              [4, 5, 6],\n",
    "              [7, 8, 9]])\n",
    "\n",
    "det_A = np.linalg.det(A)\n",
    "print(\"Determinant of A:\", det_A)\n",
    "\n",
    "if np.isclose(det_A, 0):\n",
    "    print(\"Vectors are linearly dependent\")\n",
    "else:\n",
    "    print(\"Vectors are linearly independent\")"
   ]
  },
  {
   "cell_type": "code",
   "execution_count": null,
   "id": "af6d194c",
   "metadata": {},
   "outputs": [],
   "source": []
  }
 ],
 "metadata": {
  "kernelspec": {
   "display_name": "Python 3",
   "language": "python",
   "name": "python3"
  },
  "language_info": {
   "codemirror_mode": {
    "name": "ipython",
    "version": 3
   },
   "file_extension": ".py",
   "mimetype": "text/x-python",
   "name": "python",
   "nbconvert_exporter": "python",
   "pygments_lexer": "ipython3",
   "version": "3.11.9"
  }
 },
 "nbformat": 4,
 "nbformat_minor": 5
}
