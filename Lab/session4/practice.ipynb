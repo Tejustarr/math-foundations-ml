{
 "cells": [
  {
   "cell_type": "markdown",
   "id": "75bb94cb",
   "metadata": {},
   "source": [
    "# Practice Notebook — Session 4 (PCA & SVD)\n",
    "Problems with answers for PCA, Covariance, SVD, and Image Compression.\n",
    "\n",
    "Generated: 2025-09-05T16:24:07.606850 UTC\n",
    "\n",
    "---"
   ]
  },
  {
   "cell_type": "markdown",
   "id": "e469b8ab",
   "metadata": {},
   "source": [
    "## Problem 1 — Covariance Matrix & Eigen decomposition\n",
    "Given data matrix (6 samples, 2 features):\n",
    "\n",
    "```\n",
    "X = [[12,7],[10,4],[2,3],[8,5],[3,3],[1,2]]\n",
    "```\n",
    "Compute the mean-centered covariance matrix and its eigenvalues/eigenvectors."
   ]
  },
  {
   "cell_type": "code",
   "execution_count": 1,
   "id": "d399d6c3",
   "metadata": {},
   "outputs": [
    {
     "name": "stdout",
     "output_type": "stream",
     "text": [
      "Covariance matrix:\n",
      " [[21.2  7.4]\n",
      " [ 7.4  3.2]]\n",
      "\n",
      "Eigenvalues: [23.85160933  0.54839067]\n",
      "Eigenvectors:\n",
      " [[ 0.94138873 -0.33732367]\n",
      " [ 0.33732367  0.94138873]]\n"
     ]
    }
   ],
   "source": [
    "import numpy as np\n",
    "X = np.array([[12,7],[10,4],[2,3],[8,5],[3,3],[1,2]], dtype=float)\n",
    "Xc = X - X.mean(axis=0)\n",
    "C = np.cov(Xc.T)\n",
    "vals, vecs = np.linalg.eig(C)\n",
    "print('Covariance matrix:\\n', C)\n",
    "print('\\nEigenvalues:', vals)\n",
    "print('Eigenvectors:\\n', vecs)"
   ]
  },
  {
   "cell_type": "markdown",
   "id": "f3267c81",
   "metadata": {},
   "source": [
    "**Answer (computed):** eigenvalues = `[23.85160933090361, 0.5483906690963938]`, eigenvectors =\n",
    "```\n",
    "[[ 0.94138873 -0.33732367]\n",
    " [ 0.33732367  0.94138873]]\n",
    "```"
   ]
  },
  {
   "cell_type": "markdown",
   "id": "90c9ce5e",
   "metadata": {},
   "source": [
    "## Problem 2 — PCA projection\n",
    "Project the standardized data onto the first principal component (PC1) and show projected coordinates."
   ]
  },
  {
   "cell_type": "code",
   "execution_count": 2,
   "id": "9fa9d01b",
   "metadata": {},
   "outputs": [
    {
     "name": "stdout",
     "output_type": "stream",
     "text": [
      "Projected coordinates onto PC1:\n",
      " [ 2.30842798  0.67292658 -1.10593929  0.76947599 -0.93770764 -1.70718363]\n",
      "Explained variance ratio: [0.94921971]\n"
     ]
    }
   ],
   "source": [
    "from sklearn.decomposition import PCA\n",
    "from sklearn.preprocessing import StandardScaler\n",
    "X = np.array([[12,7],[10,4],[2,3],[8,5],[3,3],[1,2]], dtype=float)\n",
    "Xs = (X - X.mean(axis=0)) / X.std(axis=0)\n",
    "pca = PCA(n_components=1)\n",
    "proj = pca.fit_transform(Xs)\n",
    "print('Projected coordinates onto PC1:\\n', proj.flatten())\n",
    "print('Explained variance ratio:', pca.explained_variance_ratio_)"
   ]
  },
  {
   "cell_type": "markdown",
   "id": "afeadcfe",
   "metadata": {},
   "source": [
    "**Answer:** projection shown in code output; PC1 direction is the first principal component computed by PCA."
   ]
  },
  {
   "cell_type": "markdown",
   "id": "c616b948",
   "metadata": {},
   "source": [
    "## Problem 3 — Singular Value Decomposition (SVD)\n",
    "Compute SVD for matrix:\n",
    "\n",
    "```\n",
    "A = [[3,1],[1,3]]\n",
    "```\n",
    "Show U, Σ, V^T and verify A = U Σ V^T."
   ]
  },
  {
   "cell_type": "code",
   "execution_count": 3,
   "id": "950770d6",
   "metadata": {},
   "outputs": [
    {
     "name": "stdout",
     "output_type": "stream",
     "text": [
      "U:\n",
      " [[-0.70710678 -0.70710678]\n",
      " [-0.70710678  0.70710678]]\n",
      "\n",
      "Singular values: [4. 2.]\n",
      "\n",
      "V^T:\n",
      " [[-0.70710678 -0.70710678]\n",
      " [-0.70710678  0.70710678]]\n",
      "\n",
      "Reconstructed A:\n",
      " [[3. 1.]\n",
      " [1. 3.]]\n"
     ]
    }
   ],
   "source": [
    "import numpy as np\n",
    "A = np.array([[3,1],[1,3]], dtype=float)\n",
    "U, S, Vt = np.linalg.svd(A)\n",
    "Sigma = np.zeros_like(A)\n",
    "np.fill_diagonal(Sigma, S)\n",
    "print('U:\\n', U)\n",
    "print('\\nSingular values:', S)\n",
    "print('\\nV^T:\\n', Vt)\n",
    "print('\\nReconstructed A:\\n', U @ Sigma @ Vt)"
   ]
  },
  {
   "cell_type": "markdown",
   "id": "3eacc044",
   "metadata": {},
   "source": [
    "**Answer:** singular values and matrices printed above; reconstruction should match A."
   ]
  },
  {
   "cell_type": "markdown",
   "id": "12c5ba0b",
   "metadata": {},
   "source": [
    "## Problem 4 — Image Compression using SVD\n",
    "Given small grayscale image:\n",
    "```\n",
    "img = [[100,120,130],[90,110,115],[80,95,105]]\n",
    "```\n",
    "Compute rank-1 approximation (k=1) using SVD and show compressed image matrix."
   ]
  },
  {
   "cell_type": "code",
   "execution_count": 4,
   "id": "7286751c",
   "metadata": {},
   "outputs": [
    {
     "name": "stdout",
     "output_type": "stream",
     "text": [
      "Rank-1 approx (k=1):\n",
      " [[100.009 120.419 129.604]\n",
      " [ 89.964 108.323 116.586]\n",
      " [ 80.029  96.362 103.712]]\n",
      "\n",
      "Original image:\n",
      " [[100. 120. 130.]\n",
      " [ 90. 110. 115.]\n",
      " [ 80.  95. 105.]]\n"
     ]
    }
   ],
   "source": [
    "import numpy as np\n",
    "img = np.array([[100,120,130],[90,110,115],[80,95,105]], dtype=float)\n",
    "U, S, Vt = np.linalg.svd(img, full_matrices=False)\n",
    "k = 1\n",
    "img_k = U[:, :k] @ np.diag(S[:k]) @ Vt[:k, :]\n",
    "print('Rank-1 approx (k=1):\\n', np.round(img_k, 3))\n",
    "print('\\nOriginal image:\\n', img)"
   ]
  },
  {
   "cell_type": "markdown",
   "id": "ddfb7d99",
   "metadata": {},
   "source": [
    "**Answer:** rank-1 approximation printed above; compare visually to original."
   ]
  },
  {
   "cell_type": "markdown",
   "id": "7d778110",
   "metadata": {},
   "source": [
    "---\n",
    "Notebook generated on 2025-09-05T16:24:07.613221 UTC\n"
   ]
  }
 ],
 "metadata": {
  "kernelspec": {
   "display_name": "Python 3",
   "language": "python",
   "name": "python3"
  },
  "language_info": {
   "codemirror_mode": {
    "name": "ipython",
    "version": 3
   },
   "file_extension": ".py",
   "mimetype": "text/x-python",
   "name": "python",
   "nbconvert_exporter": "python",
   "pygments_lexer": "ipython3",
   "version": "3.11.9"
  }
 },
 "nbformat": 4,
 "nbformat_minor": 5
}
