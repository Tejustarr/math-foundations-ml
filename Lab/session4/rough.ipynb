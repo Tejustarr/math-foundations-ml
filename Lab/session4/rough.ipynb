{
 "cells": [
  {
   "cell_type": "markdown",
   "id": "faa40eff",
   "metadata": {},
   "source": [
    "# Rough Notebook — Session 4 (PCA & SVD)\n",
    "Run code hints and experiments for PCA and SVD.\n",
    "\n",
    "---"
   ]
  },
  {
   "cell_type": "markdown",
   "id": "f0f44155",
   "metadata": {},
   "source": [
    "## Imports and helper notes"
   ]
  },
  {
   "cell_type": "code",
   "execution_count": 1,
   "id": "ecff9ae1",
   "metadata": {},
   "outputs": [
    {
     "name": "stdout",
     "output_type": "stream",
     "text": [
      "Loaded numpy and linalg svd/eig\n"
     ]
    }
   ],
   "source": [
    "import numpy as np\n",
    "from numpy.linalg import svd, eig\n",
    "print('Loaded numpy and linalg svd/eig')"
   ]
  },
  {
   "cell_type": "markdown",
   "id": "28da9feb",
   "metadata": {},
   "source": [
    "## Covariance and eigen decomposition example"
   ]
  },
  {
   "cell_type": "code",
   "execution_count": 2,
   "id": "4151ca67",
   "metadata": {},
   "outputs": [
    {
     "name": "stdout",
     "output_type": "stream",
     "text": [
      "Covariance:\n",
      " [[21.2  7.4]\n",
      " [ 7.4  3.2]]\n",
      "\n",
      "Eigenvals/eigvecs:\n",
      " EigResult(eigenvalues=array([23.85160933,  0.54839067]), eigenvectors=array([[ 0.94138873, -0.33732367],\n",
      "       [ 0.33732367,  0.94138873]]))\n"
     ]
    }
   ],
   "source": [
    "X = np.array([[12,7],[10,4],[2,3],[8,5],[3,3],[1,2]], dtype=float)\n",
    "Xc = X - X.mean(axis=0)\n",
    "C = np.cov(Xc.T)\n",
    "print('Covariance:\\n', C)\n",
    "print('\\nEigenvals/eigvecs:\\n', np.linalg.eig(C))"
   ]
  },
  {
   "cell_type": "markdown",
   "id": "4e9389cf",
   "metadata": {},
   "source": [
    "## PCA with sklearn hint"
   ]
  },
  {
   "cell_type": "code",
   "execution_count": 3,
   "id": "969befd6",
   "metadata": {},
   "outputs": [
    {
     "name": "stdout",
     "output_type": "stream",
     "text": [
      "PCA components:\n",
      " [[ 0.70710678  0.70710678]\n",
      " [ 0.70710678 -0.70710678]]\n",
      "Explained variance ratio: [0.94921971 0.05078029]\n"
     ]
    }
   ],
   "source": [
    "from sklearn.decomposition import PCA\n",
    "X = np.array([[12,7],[10,4],[2,3],[8,5],[3,3],[1,2]], dtype=float)\n",
    "X_scaled = (X - X.mean(axis=0)) / X.std(axis=0)\n",
    "pca = PCA()\n",
    "print('PCA components:\\n', pca.fit(X_scaled).components_)\n",
    "print('Explained variance ratio:', pca.explained_variance_ratio_)"
   ]
  },
  {
   "cell_type": "markdown",
   "id": "e0f73bba",
   "metadata": {},
   "source": [
    "## SVD demonstration"
   ]
  },
  {
   "cell_type": "code",
   "execution_count": 4,
   "id": "9a3350da",
   "metadata": {},
   "outputs": [
    {
     "name": "stdout",
     "output_type": "stream",
     "text": [
      "U:\n",
      " [[-0.70710678 -0.70710678]\n",
      " [-0.70710678  0.70710678]]\n",
      "\n",
      "S:\n",
      " [4. 2.]\n",
      "\n",
      "Vt:\n",
      " [[-0.70710678 -0.70710678]\n",
      " [-0.70710678  0.70710678]]\n",
      "\n",
      "Reconstruct A:\n",
      " [[3. 1.]\n",
      " [1. 3.]]\n"
     ]
    }
   ],
   "source": [
    "A = np.array([[3,1],[1,3]], dtype=float)\n",
    "U,S,Vt = svd(A)\n",
    "print('U:\\n', U)\n",
    "print('\\nS:\\n', S)\n",
    "print('\\nVt:\\n', Vt)\n",
    "print('\\nReconstruct A:\\n', U @ np.diag(S) @ Vt)"
   ]
  },
  {
   "cell_type": "markdown",
   "id": "fffc4f1a",
   "metadata": {},
   "source": [
    "## Image compression quick demo"
   ]
  },
  {
   "cell_type": "code",
   "execution_count": 5,
   "id": "81c64e7e",
   "metadata": {},
   "outputs": [
    {
     "name": "stdout",
     "output_type": "stream",
     "text": [
      "k=1 approx:\n",
      " [[100.009 120.419 129.604]\n",
      " [ 89.964 108.323 116.586]\n",
      " [ 80.029  96.362 103.712]]\n",
      "k=2 approx:\n",
      " [[100. 120. 130.]\n",
      " [ 90. 110. 115.]\n",
      " [ 80.  95. 105.]]\n",
      "k=3 approx:\n",
      " [[100. 120. 130.]\n",
      " [ 90. 110. 115.]\n",
      " [ 80.  95. 105.]]\n"
     ]
    }
   ],
   "source": [
    "img = np.array([[100,120,130],[90,110,115],[80,95,105]], dtype=float)\n",
    "U,S,Vt = svd(img, full_matrices=False)\n",
    "for k in [1,2,3]:\n",
    "    img_k = U[:,:k] @ np.diag(S[:k]) @ Vt[:k,:]\n",
    "    print(f'k={k} approx:\\n', np.round(img_k,3))"
   ]
  }
 ],
 "metadata": {
  "kernelspec": {
   "display_name": "Python 3",
   "language": "python",
   "name": "python3"
  },
  "language_info": {
   "codemirror_mode": {
    "name": "ipython",
    "version": 3
   },
   "file_extension": ".py",
   "mimetype": "text/x-python",
   "name": "python",
   "nbconvert_exporter": "python",
   "pygments_lexer": "ipython3",
   "version": "3.11.9"
  }
 },
 "nbformat": 4,
 "nbformat_minor": 5
}
