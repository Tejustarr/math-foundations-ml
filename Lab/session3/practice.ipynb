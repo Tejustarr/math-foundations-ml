{
 "cells": [
  {
   "cell_type": "markdown",
   "id": "8bfabc28",
   "metadata": {},
   "source": [
    "# Practice Notebook (Session 3)\n",
    "**Linear Algebra Applications — problems with answers**\n",
    "\n",
    "Generated: 2025-09-05T16:20:19.797852 UTC\n",
    "\n",
    "---"
   ]
  },
  {
   "cell_type": "markdown",
   "id": "29ca69c1",
   "metadata": {},
   "source": [
    "## Problem 1 — Linear Regression (Normal Equation)\n",
    "Given the design matrix X and targets Y (6 samples, 2 features + bias), compute coefficients using normal equation:\n",
    "\n",
    "$$\\beta = (X^T X)^{-1} X^T Y$$"
   ]
  },
  {
   "cell_type": "code",
   "execution_count": 1,
   "id": "1de61c63",
   "metadata": {},
   "outputs": [
    {
     "name": "stdout",
     "output_type": "stream",
     "text": [
      "Estimated coefficients (β0, β1, β2): [-2.43662505 23.32576617 10.16931517]\n"
     ]
    }
   ],
   "source": [
    "import numpy as np\n",
    "X = np.array([[1, 1.2, 2],\n",
    "              [1, 1.5, 2],\n",
    "              [1, 2.25, 3],\n",
    "              [1, 2.5, 3],\n",
    "              [1, 2.5, 2],\n",
    "              [1, 1.5, 3]])\n",
    "Y = np.array([40, 55, 75, 85, 80, 70])\n",
    "beta = np.linalg.inv(X.T @ X) @ (X.T @ Y)\n",
    "print('Estimated coefficients (β0, β1, β2):', beta)"
   ]
  },
  {
   "cell_type": "markdown",
   "id": "f191ce2b",
   "metadata": {},
   "source": [
    "**Answer (computed):** `[-2.436625047294541, 23.325766174801362, 10.169315172152784]`"
   ]
  },
  {
   "cell_type": "markdown",
   "id": "3efaf65f",
   "metadata": {},
   "source": [
    "## Problem 2 — Image Basics\n",
    "(a) Represent a 4×4 grayscale image as a NumPy array. (b) Create a 2×2 RGB image (explicit pixel values)."
   ]
  },
  {
   "cell_type": "code",
   "execution_count": 2,
   "id": "795f701f",
   "metadata": {},
   "outputs": [
    {
     "name": "stdout",
     "output_type": "stream",
     "text": [
      "4x4 grayscale matrix:\n",
      " [[ 37 235 140  72]\n",
      " [255 137 203 133]\n",
      " [ 79 192 144 129]\n",
      " [204  71 237 252]]\n",
      "\n",
      "2x2 RGB image array:\n",
      " [[[255   0   0]\n",
      "  [  0 255   0]]\n",
      "\n",
      " [[  0   0 255]\n",
      "  [255 255   0]]]\n"
     ]
    }
   ],
   "source": [
    "import numpy as np\n",
    "np.random.seed(1)\n",
    "gray4 = np.random.randint(0,256,(4,4))\n",
    "print('4x4 grayscale matrix:\\n', gray4)\n",
    "\n",
    "rgb2 = np.zeros((2,2,3), dtype=int)\n",
    "rgb2[0,0] = [255,0,0]\n",
    "rgb2[0,1] = [0,255,0]\n",
    "rgb2[1,0] = [0,0,255]\n",
    "rgb2[1,1] = [255,255,0]\n",
    "print('\\n2x2 RGB image array:\\n', rgb2)"
   ]
  },
  {
   "cell_type": "markdown",
   "id": "78b1c849",
   "metadata": {},
   "source": [
    "**Answer:** sample grayscale and RGB arrays are shown in the code output above."
   ]
  },
  {
   "cell_type": "markdown",
   "id": "381efc03",
   "metadata": {},
   "source": [
    "## Problem 3 — Linear Transformations\n",
    "Rotate point (1,0) by 45° using homogeneous coordinates and a rotation matrix."
   ]
  },
  {
   "cell_type": "code",
   "execution_count": 3,
   "id": "e5af886c",
   "metadata": {},
   "outputs": [
    {
     "name": "stdout",
     "output_type": "stream",
     "text": [
      "Rotated point (homogeneous): [0.70710678 0.70710678 1.        ]\n",
      "2D coordinates: [0.70710678 0.70710678]\n"
     ]
    }
   ],
   "source": [
    "import numpy as np\n",
    "theta = np.pi/4\n",
    "R45 = np.array([[np.cos(theta), -np.sin(theta), 0],\n",
    "                [np.sin(theta),  np.cos(theta), 0],\n",
    "                [0, 0, 1]])\n",
    "v = np.array([1,0,1])\n",
    "rotated = R45 @ v\n",
    "print('Rotated point (homogeneous):', rotated)\n",
    "print('2D coordinates:', rotated[:2])"
   ]
  },
  {
   "cell_type": "markdown",
   "id": "dbb3b45a",
   "metadata": {},
   "source": [
    "**Answer (computed):** rotated 2D point ≈ `[0.7071067811865477, 0.7071067811865476]`"
   ]
  },
  {
   "cell_type": "markdown",
   "id": "31494d52",
   "metadata": {},
   "source": [
    "## Problem 4 — Filtering (Convolution)\n",
    "Apply a 3×3 sharpening kernel to the sample 5×5 grayscale image. Show the filtered output."
   ]
  },
  {
   "cell_type": "code",
   "execution_count": 4,
   "id": "387fdc67",
   "metadata": {},
   "outputs": [
    {
     "name": "stdout",
     "output_type": "stream",
     "text": [
      "Sample image:\n",
      " [[ 0.  1.  2.  3.  4.]\n",
      " [ 5.  6.  7.  8.  9.]\n",
      " [10. 11. 12. 13. 14.]\n",
      " [15. 16. 17. 18. 19.]\n",
      " [20. 21. 22. 23. 24.]]\n",
      "\n",
      "Filtered image:\n",
      " [[-6. -4. -3. -2.  0.]\n",
      " [ 4.  6.  7.  8. 10.]\n",
      " [ 9. 11. 12. 13. 15.]\n",
      " [14. 16. 17. 18. 20.]\n",
      " [24. 26. 27. 28. 30.]]\n"
     ]
    }
   ],
   "source": [
    "import numpy as np\n",
    "sample_img = np.arange(25).reshape(5,5).astype(float)\n",
    "kernel_sharp = np.array([[0,-1,0],[-1,5,-1],[0,-1,0]])\n",
    "# simple 'same' convolution\n",
    "from scipy.signal import convolve2d\n",
    "filtered = convolve2d(sample_img, kernel_sharp, mode='same', boundary='symm')\n",
    "print('Sample image:\\n', sample_img)\n",
    "print('\\nFiltered image:\\n', filtered)"
   ]
  },
  {
   "cell_type": "markdown",
   "id": "deb7228f",
   "metadata": {},
   "source": [
    "**Answer:** filtered image printed above (see code output)."
   ]
  },
  {
   "cell_type": "markdown",
   "id": "d11dd6a0",
   "metadata": {},
   "source": [
    "## Problem 5 — Applications (Data augmentation simple example)\n",
    "Rotate point (1,2) by angles 15°, 30°, 45° and show results."
   ]
  },
  {
   "cell_type": "code",
   "execution_count": 5,
   "id": "9ab50ec7",
   "metadata": {},
   "outputs": [
    {
     "name": "stdout",
     "output_type": "stream",
     "text": [
      "Rotated points: [(15, [0.44828773608402683, 2.190670697680657]), (30, [-0.13397459621556118, 2.232050807568877]), (45, [-0.7071067811865476, 2.121320343559643])]\n"
     ]
    }
   ],
   "source": [
    "import numpy as np\n",
    "angles = [15,30,45]\n",
    "results = []\n",
    "for a in angles:\n",
    "    th = np.deg2rad(a)\n",
    "    R = np.array([[np.cos(th), -np.sin(th)],[np.sin(th), np.cos(th)]])\n",
    "    results.append((a, (R @ np.array([1,2])).tolist()))\n",
    "print('Rotated points:', results)"
   ]
  },
  {
   "cell_type": "markdown",
   "id": "7ac81299",
   "metadata": {},
   "source": [
    "**Answer (computed):** [(15, array([0.44828774, 2.1906707 ])), (30, array([-0.1339746 ,  2.23205081])), (45, array([-0.70710678,  2.12132034]))]"
   ]
  }
 ],
 "metadata": {
  "kernelspec": {
   "display_name": "Python 3",
   "language": "python",
   "name": "python3"
  },
  "language_info": {
   "codemirror_mode": {
    "name": "ipython",
    "version": 3
   },
   "file_extension": ".py",
   "mimetype": "text/x-python",
   "name": "python",
   "nbconvert_exporter": "python",
   "pygments_lexer": "ipython3",
   "version": "3.11.9"
  }
 },
 "nbformat": 4,
 "nbformat_minor": 5
}
