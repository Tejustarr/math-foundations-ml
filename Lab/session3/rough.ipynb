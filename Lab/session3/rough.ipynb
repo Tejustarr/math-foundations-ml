{
 "cells": [
  {
   "cell_type": "markdown",
   "id": "1e697868",
   "metadata": {},
   "source": [
    "# Rough Notebook (Session 3)\n",
    "Run code hints and experiments for Session 3 topics.\n",
    "\n",
    "---"
   ]
  },
  {
   "cell_type": "markdown",
   "id": "a091f23b",
   "metadata": {},
   "source": [
    "## Imports"
   ]
  },
  {
   "cell_type": "code",
   "execution_count": 1,
   "id": "afc43bbf",
   "metadata": {},
   "outputs": [
    {
     "name": "stdout",
     "output_type": "stream",
     "text": [
      "Loaded numpy, scipy.signal, matplotlib\n"
     ]
    }
   ],
   "source": [
    "import numpy as np\n",
    "from scipy.signal import convolve2d\n",
    "import matplotlib.pyplot as plt\n",
    "\n",
    "print('Loaded numpy, scipy.signal, matplotlib')"
   ]
  },
  {
   "cell_type": "markdown",
   "id": "b95eee9c",
   "metadata": {},
   "source": [
    "## Linear Regression — normal equation hint"
   ]
  },
  {
   "cell_type": "code",
   "execution_count": 2,
   "id": "0677218f",
   "metadata": {},
   "outputs": [
    {
     "name": "stdout",
     "output_type": "stream",
     "text": [
      "Normal eq solution (beta): [-2.43662505 23.32576617 10.16931517]\n"
     ]
    }
   ],
   "source": [
    "X = np.array([[1, 1.2, 2],\n",
    "              [1, 1.5, 2],\n",
    "              [1, 2.25, 3],\n",
    "              [1, 2.5, 3],\n",
    "              [1, 2.5, 2],\n",
    "              [1, 1.5, 3]])\n",
    "Y = np.array([40, 55, 75, 85, 80, 70])\n",
    "print('Normal eq solution (beta):', np.linalg.inv(X.T @ X) @ (X.T @ Y))"
   ]
  },
  {
   "cell_type": "markdown",
   "id": "67671e70",
   "metadata": {},
   "source": [
    "## Image basics — show arrays and plotting hint (use imshow)"
   ]
  },
  {
   "cell_type": "code",
   "execution_count": 3,
   "id": "7c8fa3fe",
   "metadata": {},
   "outputs": [
    {
     "data": {
      "image/png": "[encoded data removed]",
      "text/plain": [
       "<Figure size 640x480 with 2 Axes>"
      ]
     },
     "metadata": {},
     "output_type": "display_data"
    }
   ],
   "source": [
    "gray4 = np.random.randint(0,256,(4,4))\n",
    "plt.imshow(gray4, cmap='gray', vmin=0, vmax=255)\n",
    "plt.title('4x4 grayscale sample')\n",
    "plt.colorbar()\n",
    "plt.show()"
   ]
  },
  {
   "cell_type": "markdown",
   "id": "b928116c",
   "metadata": {},
   "source": [
    "## Transformations — homogeneous coordinate example"
   ]
  },
  {
   "cell_type": "code",
   "execution_count": 4,
   "id": "d831af09",
   "metadata": {},
   "outputs": [
    {
     "name": "stdout",
     "output_type": "stream",
     "text": [
      "R45 @ v -> [0.70710678 0.70710678 1.        ]\n"
     ]
    }
   ],
   "source": [
    "theta = np.pi/4\n",
    "R45 = np.array([[np.cos(theta), -np.sin(theta), 0],\n",
    "                [np.sin(theta),  np.cos(theta), 0],\n",
    "                [0, 0, 1]])\n",
    "v = np.array([1,0,1])\n",
    "print('R45 @ v ->', R45 @ v)"
   ]
  },
  {
   "cell_type": "markdown",
   "id": "ded51bb2",
   "metadata": {},
   "source": [
    "## Filtering — convolution example"
   ]
  },
  {
   "cell_type": "code",
   "execution_count": 5,
   "id": "d83b00c6",
   "metadata": {},
   "outputs": [
    {
     "name": "stdout",
     "output_type": "stream",
     "text": [
      "Filtered (average blur):\n",
      " [[ 2.          2.66666667  3.66666667  4.66666667  5.33333333]\n",
      " [ 5.33333333  6.          7.          8.          8.66666667]\n",
      " [10.33333333 11.         12.         13.         13.66666667]\n",
      " [15.33333333 16.         17.         18.         18.66666667]\n",
      " [18.66666667 19.33333333 20.33333333 21.33333333 22.        ]]\n"
     ]
    }
   ],
   "source": [
    "sample_img = np.arange(25).reshape(5,5).astype(float)\n",
    "kernel = np.array([[1,1,1],[1,1,1],[1,1,1]])/9\n",
    "filtered = convolve2d(sample_img, kernel, mode='same', boundary='symm')\n",
    "print('Filtered (average blur):\\n', filtered)"
   ]
  },
  {
   "cell_type": "markdown",
   "id": "bf54c2f2",
   "metadata": {},
   "source": [
    "## Data augmentation hint — rotate a point or image"
   ]
  },
  {
   "cell_type": "code",
   "execution_count": 6,
   "id": "7ca28174",
   "metadata": {},
   "outputs": [
    {
     "name": "stdout",
     "output_type": "stream",
     "text": [
      "R @ [1,2] = [-0.1339746   2.23205081]\n"
     ]
    }
   ],
   "source": [
    "th = np.deg2rad(30)\n",
    "R = np.array([[np.cos(th), -np.sin(th)],[np.sin(th), np.cos(th)]])\n",
    "print('R @ [1,2] =', R @ np.array([1,2]))"
   ]
  }
 ],
 "metadata": {
  "kernelspec": {
   "display_name": "Python 3",
   "language": "python",
   "name": "python3"
  },
  "language_info": {
   "codemirror_mode": {
    "name": "ipython",
    "version": 3
   },
   "file_extension": ".py",
   "mimetype": "text/x-python",
   "name": "python",
   "nbconvert_exporter": "python",
   "pygments_lexer": "ipython3",
   "version": "3.11.9"
  }
 },
 "nbformat": 4,
 "nbformat_minor": 5
}
