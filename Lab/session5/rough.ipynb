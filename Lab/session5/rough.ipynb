{
 "cells": [
  {
   "cell_type": "markdown",
   "id": "5587c41c",
   "metadata": {},
   "source": [
    "# Rough Notebook — Session 5 (Functions & Calculus)\n",
    "Run code hints and experiments for Session 5 topics.\n",
    "\n",
    "---"
   ]
  },
  {
   "cell_type": "markdown",
   "id": "63f0bfd7",
   "metadata": {},
   "source": [
    "## Imports"
   ]
  },
  {
   "cell_type": "code",
   "execution_count": 1,
   "id": "0bde04ee",
   "metadata": {},
   "outputs": [
    {
     "name": "stdout",
     "output_type": "stream",
     "text": [
      "Loaded numpy and sympy\n"
     ]
    }
   ],
   "source": [
    "import numpy as np\n",
    "import sympy as sp\n",
    "from sympy import symbols\n",
    "print('Loaded numpy and sympy')"
   ]
  },
  {
   "cell_type": "markdown",
   "id": "5e7a9038",
   "metadata": {},
   "source": [
    "## Example: derivative and plotting hint"
   ]
  },
  {
   "cell_type": "code",
   "execution_count": 2,
   "id": "f1a7ab19",
   "metadata": {},
   "outputs": [
    {
     "name": "stdout",
     "output_type": "stream",
     "text": [
      "f' = 3*x**2 - 3\n"
     ]
    }
   ],
   "source": [
    "x = sp.symbols('x')\n",
    "f = x**3 - 3*x + 2\n",
    "fprime = sp.diff(f, x)\n",
    "print('f\\' =', fprime)\n",
    "\n",
    "# numeric plot hint (matplotlib) - not plotted here"
   ]
  },
  {
   "cell_type": "markdown",
   "id": "51a7f8fc",
   "metadata": {},
   "source": [
    "## Example: partial derivatives and Jacobian/Hessian hint"
   ]
  },
  {
   "cell_type": "code",
   "execution_count": 3,
   "id": "4fe0f397",
   "metadata": {},
   "outputs": [
    {
     "name": "stdout",
     "output_type": "stream",
     "text": [
      "df/dx = 3*x**2 + 4*x*y + 2\n",
      "df/dy = 2*x**2 + 2*y\n",
      "Jacobian:\n",
      " Matrix([[2*x*y, x**2], [5, cos(y)]])\n"
     ]
    }
   ],
   "source": [
    "x,y = sp.symbols('x y')\n",
    "f = x**3 + 2*x**2*y + y**2 + 2*x + 1\n",
    "print('df/dx =', sp.diff(f, x))\n",
    "print('df/dy =', sp.diff(f, y))\n",
    "\n",
    "F = sp.Matrix([x**2 * y, 5*x + sp.sin(y)])\n",
    "print('Jacobian:\\n', F.jacobian([x,y]))"
   ]
  }
 ],
 "metadata": {
  "kernelspec": {
   "display_name": "Python 3",
   "language": "python",
   "name": "python3"
  },
  "language_info": {
   "codemirror_mode": {
    "name": "ipython",
    "version": 3
   },
   "file_extension": ".py",
   "mimetype": "text/x-python",
   "name": "python",
   "nbconvert_exporter": "python",
   "pygments_lexer": "ipython3",
   "version": "3.11.9"
  }
 },
 "nbformat": 4,
 "nbformat_minor": 5
}
