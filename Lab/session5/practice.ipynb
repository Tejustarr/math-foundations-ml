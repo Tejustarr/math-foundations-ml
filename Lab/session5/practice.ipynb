{
 "cells": [
  {
   "cell_type": "markdown",
   "id": "e549faf1",
   "metadata": {},
   "source": [
    "# Practice Notebook — Session 5 (Functions, Derivatives, Integrals)\n",
    "Problems with answers for calculus and multivariable basics.\n",
    "\n",
    "Generated: 2025-09-05T16:27:08.529306 UTC\n",
    "\n",
    "---"
   ]
  },
  {
   "cell_type": "markdown",
   "id": "41e4280a",
   "metadata": {},
   "source": [
    "## Problem 1 — Intervals\n",
    "Write closed, open, and half-open intervals between a=2 and b=5."
   ]
  },
  {
   "cell_type": "code",
   "execution_count": 1,
   "id": "3fff51f6",
   "metadata": {},
   "outputs": [
    {
     "name": "stdout",
     "output_type": "stream",
     "text": [
      "Closed: [2,5]\n",
      "Open: (2,5)\n",
      "Half-open: [2,5) and (2,5]\n"
     ]
    }
   ],
   "source": [
    "print('Closed: [2,5]')\n",
    "print('Open: (2,5)')\n",
    "print('Half-open: [2,5) and (2,5]')"
   ]
  },
  {
   "cell_type": "markdown",
   "id": "b0c8cf19",
   "metadata": {},
   "source": [
    "**Answer (computed):** Closed [2,5], Open (2,5), Half-open [2,5), (2,5]"
   ]
  },
  {
   "cell_type": "markdown",
   "id": "34f5a00f",
   "metadata": {},
   "source": [
    "## Problem 2 — Vector and Norms\n",
    "Given v = [3,4,5], compute its L2 norm."
   ]
  },
  {
   "cell_type": "code",
   "execution_count": 2,
   "id": "4a69facd",
   "metadata": {},
   "outputs": [
    {
     "name": "stdout",
     "output_type": "stream",
     "text": [
      "v: [3 4 5]\n",
      "L2 norm: 7.0710678118654755\n"
     ]
    }
   ],
   "source": [
    "import numpy as np\n",
    "v = np.array([3,4,5])\n",
    "print('v:', v)\n",
    "print('L2 norm:', np.linalg.norm(v))"
   ]
  },
  {
   "cell_type": "markdown",
   "id": "49035214",
   "metadata": {},
   "source": [
    "**Answer (computed):** L2 norm = 7.0710678118654755"
   ]
  },
  {
   "cell_type": "markdown",
   "id": "a556460f",
   "metadata": {},
   "source": [
    "## Problem 3 — Derivatives\n",
    "Compute derivative of f(x) = x^2 + 5x + 6 and second derivative of f(x) = sin(x) + x^3."
   ]
  },
  {
   "cell_type": "code",
   "execution_count": 3,
   "id": "9a9cee82",
   "metadata": {},
   "outputs": [
    {
     "name": "stdout",
     "output_type": "stream",
     "text": [
      "f1' = 2*x + 5\n",
      "f2 second derivative = 6*x - sin(x)\n"
     ]
    }
   ],
   "source": [
    "import sympy as sp\n",
    "x = sp.symbols('x')\n",
    "f1 = x**2 + 5*x + 6\n",
    "f1p = sp.diff(f1, x)\n",
    "print('f1\\' =', f1p)\n",
    "f2 = sp.sin(x) + x**3\n",
    "f2pp = sp.diff(f2, x, 2)\n",
    "print('f2 second derivative =', f2pp)"
   ]
  },
  {
   "cell_type": "markdown",
   "id": "c669361b",
   "metadata": {},
   "source": [
    "**Answer (computed):** f1' = 2*x + 5, f2'' = 6*x - sin(x)"
   ]
  },
  {
   "cell_type": "markdown",
   "id": "6b289916",
   "metadata": {},
   "source": [
    "## Problem 4 — Limits\n",
    "Compute lim_{x->0} sin(x)/x."
   ]
  },
  {
   "cell_type": "code",
   "execution_count": 4,
   "id": "d827ddac",
   "metadata": {},
   "outputs": [
    {
     "name": "stdout",
     "output_type": "stream",
     "text": [
      "limit sin(x)/x as x->0 = 1\n"
     ]
    }
   ],
   "source": [
    "import sympy as sp\n",
    "x = sp.symbols('x')\n",
    "print('limit sin(x)/x as x->0 =', sp.limit(sp.sin(x)/x, x, 0))"
   ]
  },
  {
   "cell_type": "markdown",
   "id": "3ac928ae",
   "metadata": {},
   "source": [
    "**Answer (computed):** 1"
   ]
  },
  {
   "cell_type": "markdown",
   "id": "3d614315",
   "metadata": {},
   "source": [
    "## Problem 5 — Partial Derivatives\n",
    "For f(x,y) = x^3 + 2x^2 y + y^2 + 2x + 1, compute ∂f/∂x and ∂f/∂y."
   ]
  },
  {
   "cell_type": "code",
   "execution_count": 5,
   "id": "cfc9f4c4",
   "metadata": {},
   "outputs": [
    {
     "name": "stdout",
     "output_type": "stream",
     "text": [
      "df/dx = 3*x**2 + 4*x*y + 2\n",
      "df/dy = 2*x**2 + 2*y\n"
     ]
    }
   ],
   "source": [
    "import sympy as sp\n",
    "x,y = sp.symbols('x y')\n",
    "f = x**3 + 2*x**2*y + y**2 + 2*x + 1\n",
    "print('df/dx =', sp.diff(f, x))\n",
    "print('df/dy =', sp.diff(f, y))"
   ]
  },
  {
   "cell_type": "markdown",
   "id": "6e30d8f4",
   "metadata": {},
   "source": [
    "**Answer (computed):** df/dx = 3*x**2 + 4*x*y + 2, df/dy = 2*x**2 + 2*y"
   ]
  },
  {
   "cell_type": "markdown",
   "id": "433a6ea5",
   "metadata": {},
   "source": [
    "## Problem 6 — Jacobian and Hessian\n",
    "Compute Jacobian of F = [x^2 y, 5x + sin y] and Hessian of f(x,y) = -7x^2 -5xy -4y^2."
   ]
  },
  {
   "cell_type": "code",
   "execution_count": 6,
   "id": "6cdf2e82",
   "metadata": {},
   "outputs": [
    {
     "name": "stdout",
     "output_type": "stream",
     "text": [
      "Jacobian:\n",
      " Matrix([[2*x*y, x**2], [5, cos(y)]])\n",
      "\n",
      "Hessian:\n",
      " Matrix([[-14, -5], [-5, -8]])\n"
     ]
    }
   ],
   "source": [
    "import sympy as sp\n",
    "x,y = sp.symbols('x y')\n",
    "F = sp.Matrix([x**2 * y, 5*x + sp.sin(y)])\n",
    "J = F.jacobian([x,y])\n",
    "print('Jacobian:\\n', J)\n",
    "f = -7*x**2 -5*x*y -4*y**2\n",
    "H = sp.hessian(f, (x,y))\n",
    "print('\\nHessian:\\n', H)"
   ]
  },
  {
   "cell_type": "markdown",
   "id": "5332154a",
   "metadata": {},
   "source": [
    "**Answer (computed):** Jacobian =\n",
    "```\n",
    "Matrix([[2*x*y, x**2], [5, cos(y)]])\n",
    "```\n",
    "Hessian =\n",
    "```\n",
    "Matrix([[-14, -5], [-5, -8]])\n",
    "```"
   ]
  },
  {
   "cell_type": "markdown",
   "id": "a9bdff10",
   "metadata": {},
   "source": [
    "## Problem 7 — Integrals\n",
    "Compute indefinite integral of x^2 + 1 and definite integral from 0 to 2."
   ]
  },
  {
   "cell_type": "code",
   "execution_count": 7,
   "id": "25ee9268",
   "metadata": {},
   "outputs": [
    {
     "name": "stdout",
     "output_type": "stream",
     "text": [
      "Indefinite: x**3/3 + x\n",
      "Definite 0..2: 14/3\n"
     ]
    }
   ],
   "source": [
    "import sympy as sp\n",
    "x = sp.symbols('x')\n",
    "F = sp.integrate(x**2 + 1, x)\n",
    "res = sp.integrate(x**2 + 1, (x,0,2))\n",
    "print('Indefinite:', F)\n",
    "print('Definite 0..2:', res)"
   ]
  },
  {
   "cell_type": "markdown",
   "id": "6bbebf75",
   "metadata": {},
   "source": [
    "**Answer (computed):** Indefinite integral = x**3/3 + x, Definite = 14/3"
   ]
  }
 ],
 "metadata": {
  "kernelspec": {
   "display_name": "Python 3",
   "language": "python",
   "name": "python3"
  },
  "language_info": {
   "codemirror_mode": {
    "name": "ipython",
    "version": 3
   },
   "file_extension": ".py",
   "mimetype": "text/x-python",
   "name": "python",
   "nbconvert_exporter": "python",
   "pygments_lexer": "ipython3",
   "version": "3.11.9"
  }
 },
 "nbformat": 4,
 "nbformat_minor": 5
}
