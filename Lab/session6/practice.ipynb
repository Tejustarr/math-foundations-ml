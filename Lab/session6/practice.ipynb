{
 "cells": [
  {
   "cell_type": "markdown",
   "id": "776e4e0a",
   "metadata": {},
   "source": [
    "# Practice Notebook — Session 6 (Optimization & Gradient Descent)\n",
    "Problems with answers for optimization basics and gradient methods.\n",
    "\n",
    "Generated: 2025-09-05T16:30:05.298840 UTC\n",
    "\n",
    "---"
   ]
  },
  {
   "cell_type": "markdown",
   "id": "1524e04b",
   "metadata": {},
   "source": [
    "## Problem 1 — Analytic minimizer\n",
    "Find the minimizer of f(x) = (x-3)^2 and the minimum value."
   ]
  },
  {
   "cell_type": "code",
   "execution_count": 1,
   "id": "67694c44",
   "metadata": {},
   "outputs": [
    {
     "name": "stdout",
     "output_type": "stream",
     "text": [
      "Minimizer x* = 3.0\n",
      "Minimum value f(x*) = 0.0\n"
     ]
    }
   ],
   "source": [
    "# Problem 1 — analytic\n",
    "# f(x) = (x-3)^2\n",
    "x_star = 3.0\n",
    "f_min = 0.0\n",
    "print('Minimizer x* =', x_star)\n",
    "print('Minimum value f(x*) =', f_min)"
   ]
  },
  {
   "cell_type": "markdown",
   "id": "825b8ee1",
   "metadata": {},
   "source": [
    "**Answer (computed):** x* = `3.0`, f(x*) = `0.0`"
   ]
  },
  {
   "cell_type": "markdown",
   "id": "d044c686",
   "metadata": {},
   "source": [
    "## Problem 2 — Gradient Descent (1D)\n",
    "Run gradient descent on f(x) = (x-3)^2 starting from w0=0, lr=0.1 for 10 epochs and show the parameter trajectory."
   ]
  },
  {
   "cell_type": "code",
   "execution_count": 2,
   "id": "2ae8423e",
   "metadata": {},
   "outputs": [
    {
     "name": "stdout",
     "output_type": "stream",
     "text": [
      "Epoch, w, f(w)\n",
      "(1, 0.6000000000000001, 5.76)\n",
      "(2, 1.08, 3.6864)\n",
      "(3, 1.464, 2.359296)\n",
      "(4, 1.7711999999999999, 1.5099494400000002)\n",
      "(5, 2.01696, 0.9663676415999999)\n",
      "(6, 2.213568, 0.6184752906240001)\n",
      "(7, 2.3708544, 0.39582418599936026)\n",
      "(8, 2.49668352, 0.25332747903959046)\n",
      "(9, 2.597346816, 0.1621295865853379)\n",
      "(10, 2.6778774528, 0.10376293541461637)\n"
     ]
    }
   ],
   "source": [
    "# Problem 2 — gradient descent\n",
    "w = 0.0\n",
    "lr = 0.1\n",
    "history = []\n",
    "for epoch in range(10):\n",
    "    grad = 2*(w-3)\n",
    "    w = w - lr * grad\n",
    "    history.append((epoch+1, w, (w-3)**2))\n",
    "print('Epoch, w, f(w)')\n",
    "for rec in history:\n",
    "    print(rec)"
   ]
  },
  {
   "cell_type": "markdown",
   "id": "d0329e11",
   "metadata": {},
   "source": [
    "**Answer (computed sample):** first few iterations shown in code output; final w ≈ `2.6778774528`"
   ]
  },
  {
   "cell_type": "markdown",
   "id": "8fb79827",
   "metadata": {},
   "source": [
    "## Problem 3 — Stochastic Gradient Descent (SGD)\n",
    "Perform SGD for linear regression y=2x (perfect linear) with lr=0.01 for 5 epochs. Show final parameters."
   ]
  },
  {
   "cell_type": "code",
   "execution_count": 3,
   "id": "76e33e32",
   "metadata": {},
   "outputs": [
    {
     "name": "stdout",
     "output_type": "stream",
     "text": [
      "Final W, b after SGD: [1.77443669] [0.59037272]\n"
     ]
    }
   ],
   "source": [
    "# Problem 3 — SGD example\n",
    "import numpy as np\n",
    "X = np.array([[1],[2],[3],[4]], dtype=float)\n",
    "y = np.array([2,4,6,8], dtype=float)\n",
    "W, b = 0.0, 0.0\n",
    "lr = 0.01\n",
    "for epoch in range(5):\n",
    "    for i in range(len(X)):\n",
    "        xi = X[i]\n",
    "        yi = y[i]\n",
    "        y_pred = W*xi + b\n",
    "        error = y_pred - yi\n",
    "        dW = 2 * xi * error\n",
    "        db = 2 * error\n",
    "        W -= lr * dW\n",
    "        b -= lr * db\n",
    "print('Final W, b after SGD:', W, b)"
   ]
  },
  {
   "cell_type": "markdown",
   "id": "6f18451b",
   "metadata": {},
   "source": [
    "**Answer (computed):** final W ≈ `[1.77443669]`, b ≈ `[0.59037272]` (after 5 epochs in this example)"
   ]
  },
  {
   "cell_type": "markdown",
   "id": "08862d24",
   "metadata": {},
   "source": [
    "## Problem 4 — Convexity check\n",
    "Check convexity of f(x) = x^2 + 2x + 3 using second derivative."
   ]
  },
  {
   "cell_type": "code",
   "execution_count": 4,
   "id": "6bca56f0",
   "metadata": {},
   "outputs": [
    {
     "name": "stdout",
     "output_type": "stream",
     "text": [
      "Second derivative = 2 -> convex\n"
     ]
    }
   ],
   "source": [
    "# Problem 4 — convexity\n",
    "# f''(x) = 2 > 0 -> convex\n",
    "print('Second derivative = 2 -> convex')"
   ]
  },
  {
   "cell_type": "markdown",
   "id": "70cc9e69",
   "metadata": {},
   "source": [
    "**Answer:** convexity = `True`"
   ]
  }
 ],
 "metadata": {
  "kernelspec": {
   "display_name": "Python 3",
   "language": "python",
   "name": "python3"
  },
  "language_info": {
   "codemirror_mode": {
    "name": "ipython",
    "version": 3
   },
   "file_extension": ".py",
   "mimetype": "text/x-python",
   "name": "python",
   "nbconvert_exporter": "python",
   "pygments_lexer": "ipython3",
   "version": "3.11.9"
  }
 },
 "nbformat": 4,
 "nbformat_minor": 5
}
